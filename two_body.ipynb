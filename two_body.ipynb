{
  "nbformat": 4,
  "nbformat_minor": 0,
  "metadata": {
    "colab": {
      "name": "two_body.ipynb",
      "provenance": [],
      "collapsed_sections": [],
      "authorship_tag": "ABX9TyNkyzfjIevhzf53N0OfhTDr",
      "include_colab_link": true
    },
    "kernelspec": {
      "name": "python3",
      "display_name": "Python 3"
    },
    "language_info": {
      "name": "python"
    }
  },
  "cells": [
    {
      "cell_type": "markdown",
      "metadata": {
        "id": "view-in-github",
        "colab_type": "text"
      },
      "source": [
        "<a href=\"https://colab.research.google.com/github/CaseyAnnHorvath/desihigh/blob/main/two_body.ipynb\" target=\"_parent\"><img src=\"https://colab.research.google.com/assets/colab-badge.svg\" alt=\"Open In Colab\"/></a>"
      ]
    },
    {
      "cell_type": "code",
      "execution_count": 1,
      "metadata": {
        "colab": {
          "base_uri": "https://localhost:8080/"
        },
        "id": "_9XXTHzUDrvM",
        "outputId": "6127a9cb-6dd0-4c81-e3f9-7d795383af46"
      },
      "outputs": [
        {
          "output_type": "stream",
          "name": "stdout",
          "text": [
            "Mounted at /content/drive\n"
          ]
        }
      ],
      "source": [
        "from google.colab import drive\n",
        "drive.mount('/content/drive')"
      ]
    },
    {
      "cell_type": "code",
      "source": [
        "import sys\n",
        "sys.path.append('/content/drive/MyDrive/desihigh/')"
      ],
      "metadata": {
        "id": "7fdvZERHD4X7"
      },
      "execution_count": 2,
      "outputs": []
    },
    {
      "cell_type": "code",
      "source": [
        "import time\n",
        "import astropy\n",
        "import itertools\n",
        "import matplotlib\n",
        "\n",
        "import numpy             as np\n",
        "import pylab             as pl\n",
        "import matplotlib.pyplot as plt\n",
        "import astropy.units     as u\n",
        "\n",
        "from   astropy.cosmology import FlatLambdaCDM\n",
        "from   IPython.display   import YouTubeVideo\n",
        "from   tools.flops       import flops"
      ],
      "metadata": {
        "id": "snf0wTCwD4jW"
      },
      "execution_count": 3,
      "outputs": []
    },
    {
      "cell_type": "code",
      "source": [
        "from IPython.display import clear_output\n",
        "from time import sleep"
      ],
      "metadata": {
        "id": "Efcox2omD4tS"
      },
      "execution_count": 4,
      "outputs": []
    },
    {
      "cell_type": "code",
      "source": [
        "%matplotlib inline\n",
        "\n",
        "plt.style.use('dark_background')"
      ],
      "metadata": {
        "id": "i_qZmPtaD40n"
      },
      "execution_count": 5,
      "outputs": []
    },
    {
      "cell_type": "code",
      "source": [
        "def init_dof(npt=1):\n",
        "  #  Create a set of particles at random positions in a box, which will soon predict the distribution of dark matter \n",
        "  #  as we see above.\n",
        "  xs     = np.random.uniform(0., 1., npt)\n",
        "  ys     = np.random.uniform(0., 1., npt)\n",
        "  zs     = np.random.uniform(0., 1., npt)\n",
        "\n",
        "  pos    = np.vstack((xs,ys,zs)).T\n",
        "  vel    = np.zeros_like(pos)\n",
        "\n",
        "  return  pos, vel"
      ],
      "metadata": {
        "id": "1jVC-9LkD48F"
      },
      "execution_count": 6,
      "outputs": []
    },
    {
      "cell_type": "code",
      "source": [
        "npt = 2\n",
        "pos, vel  = init_dof(npt=npt)\n",
        "mass=np.zeros_like(pos)\n"
      ],
      "metadata": {
        "id": "r1j74orGE9x_"
      },
      "execution_count": 7,
      "outputs": []
    },
    {
      "cell_type": "code",
      "source": [
        "i = 0\n",
        "pos[i][0]=0\n",
        "pos[i][1]=0\n",
        "pos[i][2]=0\n",
        "pos[0]\n",
        "\n",
        "i = 1\n",
        "pos[i][0]=1.5e12\n",
        "pos[i][1]=0\n",
        "pos[i][2]=0\n",
        "\n",
        "\n",
        "\n",
        "# vel of particle 1\n",
        "i=0\n",
        "\n",
        "vel[i][0]=0\n",
        "vel[i][1]=11000\n",
        "vel[i][2]=0\n",
        "\n",
        "i=1\n",
        "\n",
        "vel[i][1]=0\n",
        "vel[i][1]=-5500\n",
        "vel[i][2]=0\n",
        "\n",
        "\n",
        "\n",
        "mass[0]=1.5e30\n",
        "mass[1]=6e30"
      ],
      "metadata": {
        "id": "MRmZg-TXFNY4"
      },
      "execution_count": 8,
      "outputs": []
    },
    {
      "cell_type": "code",
      "source": [
        "def com(pos,mass):  #defining CoM function, \n",
        "  result=np.dot(mass*pos)/np.sum(mass)\n",
        "  return result"
      ],
      "metadata": {
        "id": "PTPPjccOGVmw"
      },
      "execution_count": 9,
      "outputs": []
    },
    {
      "cell_type": "code",
      "source": [
        "#Rcom=com(pos,mass)"
      ],
      "metadata": {
        "id": "4To0a5OdLZNX"
      },
      "execution_count": 10,
      "outputs": []
    },
    {
      "cell_type": "code",
      "source": [
        "print, Rcom"
      ],
      "metadata": {
        "colab": {
          "base_uri": "https://localhost:8080/",
          "height": 166
        },
        "id": "pWWE58-3HBdH",
        "outputId": "edac705c-4f3e-4f69-95c2-a1794f88beea"
      },
      "execution_count": 11,
      "outputs": [
        {
          "output_type": "error",
          "ename": "NameError",
          "evalue": "ignored",
          "traceback": [
            "\u001b[0;31m---------------------------------------------------------------------------\u001b[0m",
            "\u001b[0;31mNameError\u001b[0m                                 Traceback (most recent call last)",
            "\u001b[0;32m<ipython-input-11-4beb4378fb28>\u001b[0m in \u001b[0;36m<module>\u001b[0;34m()\u001b[0m\n\u001b[0;32m----> 1\u001b[0;31m \u001b[0mprint\u001b[0m\u001b[0;34m,\u001b[0m \u001b[0mRcom\u001b[0m\u001b[0;34m\u001b[0m\u001b[0;34m\u001b[0m\u001b[0m\n\u001b[0m",
            "\u001b[0;31mNameError\u001b[0m: name 'Rcom' is not defined"
          ]
        }
      ]
    },
    {
      "cell_type": "code",
      "source": [
        "pos_com=pos-Rcom\n",
        "print, pos_com"
      ],
      "metadata": {
        "colab": {
          "base_uri": "https://localhost:8080/",
          "height": 183
        },
        "id": "_CJ0gW_ALMwh",
        "outputId": "0e3c42f9-9a36-4cb1-8f07-a9e7ecd6a682"
      },
      "execution_count": 12,
      "outputs": [
        {
          "output_type": "error",
          "ename": "NameError",
          "evalue": "ignored",
          "traceback": [
            "\u001b[0;31m---------------------------------------------------------------------------\u001b[0m",
            "\u001b[0;31mNameError\u001b[0m                                 Traceback (most recent call last)",
            "\u001b[0;32m<ipython-input-12-7c3314ca6569>\u001b[0m in \u001b[0;36m<module>\u001b[0;34m()\u001b[0m\n\u001b[0;32m----> 1\u001b[0;31m \u001b[0mpos_com\u001b[0m\u001b[0;34m=\u001b[0m\u001b[0mpos\u001b[0m\u001b[0;34m-\u001b[0m\u001b[0mRcom\u001b[0m\u001b[0;34m\u001b[0m\u001b[0;34m\u001b[0m\u001b[0m\n\u001b[0m\u001b[1;32m      2\u001b[0m \u001b[0mprint\u001b[0m\u001b[0;34m,\u001b[0m \u001b[0mpos_com\u001b[0m\u001b[0;34m\u001b[0m\u001b[0;34m\u001b[0m\u001b[0m\n",
            "\u001b[0;31mNameError\u001b[0m: name 'Rcom' is not defined"
          ]
        }
      ]
    },
    {
      "cell_type": "code",
      "source": [
        "#defining original values for the 2 bodies\n",
        "\n",
        "m1=1.5e30\n",
        "m2=6e30\n",
        "\n",
        "v1=1.1e4\n",
        "v2=-5.5e3\n",
        "\n",
        "r1=0\n",
        "r2=1.5e12\n",
        "\n",
        "#distance between m1 and m2\n",
        "r=r2-r1\n"
      ],
      "metadata": {
        "id": "m_vcZU6cFzVY"
      },
      "execution_count": 13,
      "outputs": []
    },
    {
      "cell_type": "code",
      "source": [
        "def com_vel(vel,mass):\n",
        "  result=np.sum(mass*vel,axis=0)/np.sum(mass)\n",
        "  return result\n",
        "\n",
        "#Simple 2body version\n",
        "\n",
        "def findCoM(m1, r1, v1, m2, r2, v2):\n",
        "  return (m1*r1 + m2*r2)/(m1+m2), (m1*v1 + m2*v2)/(m1+m2)"
      ],
      "metadata": {
        "id": "m2KS5G_pJcnv"
      },
      "execution_count": 14,
      "outputs": []
    },
    {
      "cell_type": "code",
      "source": [
        "#dont need anymore\n",
        "#print(findCoM(m1, r1, v1, m2, r2, v2)) #1.5e30, 0, 11000, 6e30, 1.5e12, -5500\n",
        "#print, com_vel(vel,mass)"
      ],
      "metadata": {
        "id": "3M2Ljk2-Kglz"
      },
      "execution_count": 15,
      "outputs": []
    },
    {
      "cell_type": "code",
      "source": [
        "com_pos, com_vel = findCoM(m1, r1, v1, m2, r2, v2)\n",
        "print(com_pos, com_vel)"
      ],
      "metadata": {
        "id": "HelqBwCrMqjU",
        "colab": {
          "base_uri": "https://localhost:8080/"
        },
        "outputId": "65362ebc-81bb-40df-9c4a-d50fbd566e7b"
      },
      "execution_count": 16,
      "outputs": [
        {
          "output_type": "stream",
          "name": "stdout",
          "text": [
            "1200000000000.0 -2200.0\n"
          ]
        }
      ]
    },
    {
      "cell_type": "code",
      "source": [
        "#setting com reference frome to 0 vel\n",
        "\n",
        "v1=v1-com_vel\n",
        "v2=v2-com_vel\n",
        "\n",
        "print(v1,v2)"
      ],
      "metadata": {
        "colab": {
          "base_uri": "https://localhost:8080/"
        },
        "id": "GNdEsMiVISBa",
        "outputId": "5f07c636-06ef-4c1c-f146-0c442da1dc93"
      },
      "execution_count": 17,
      "outputs": [
        {
          "output_type": "stream",
          "name": "stdout",
          "text": [
            "13200.0 -3300.0\n"
          ]
        }
      ]
    },
    {
      "cell_type": "code",
      "source": [
        "#Gravitational Constant\n",
        "G=6.67e-11"
      ],
      "metadata": {
        "id": "9u5NHTeLHBxu"
      },
      "execution_count": 18,
      "outputs": []
    },
    {
      "cell_type": "code",
      "source": [
        "#energy calculation\n",
        "\n",
        "\n",
        "def energy(m1,v1,m2,v2,r):\n",
        "  return .5*m1*(v1**2)+.5*m2*(v2**2)-((G*m1*m2)/r)\n",
        "  "
      ],
      "metadata": {
        "id": "wIYEhhprJUBJ"
      },
      "execution_count": 19,
      "outputs": []
    },
    {
      "cell_type": "code",
      "source": [
        "E=energy(m1,v1,m2,v2,r)\n",
        "print(E)"
      ],
      "metadata": {
        "colab": {
          "base_uri": "https://localhost:8080/"
        },
        "id": "NNtE2IniKWmo",
        "outputId": "cf046fcc-669c-41be-be78-7e0f41d9c5be"
      },
      "execution_count": 20,
      "outputs": [
        {
          "output_type": "stream",
          "name": "stdout",
          "text": [
            "-2.3684999999999995e+38\n"
          ]
        }
      ]
    },
    {
      "cell_type": "code",
      "source": [
        "#angular momentum calculation\n",
        "def ang_momentum(m1,m2,v1,v2,r1,r2):\n",
        "  return m1*v1*r1+m2*v2*r2"
      ],
      "metadata": {
        "id": "TRkTQbjqKsb5"
      },
      "execution_count": 21,
      "outputs": []
    },
    {
      "cell_type": "code",
      "source": [
        "L=ang_momentum(m1,m2,v1,v2,r1,r2)\n",
        "print(L)"
      ],
      "metadata": {
        "colab": {
          "base_uri": "https://localhost:8080/"
        },
        "id": "Vzm08xPFL7A5",
        "outputId": "d3c632e3-dadc-4dc2-9680-5cd4699e1f54"
      },
      "execution_count": 22,
      "outputs": [
        {
          "output_type": "stream",
          "name": "stdout",
          "text": [
            "-2.9699999999999997e+46\n"
          ]
        }
      ]
    },
    {
      "cell_type": "code",
      "source": [
        "#calc reduced mass\n",
        "def reduced_mass(m1,m2):\n",
        "  return (m1*m2)/(m1+m2)\n",
        "  "
      ],
      "metadata": {
        "id": "0kHHcqkDMU6k"
      },
      "execution_count": 23,
      "outputs": []
    },
    {
      "cell_type": "code",
      "source": [
        "u=reduced_mass(m1,m2)\n",
        "print(u)"
      ],
      "metadata": {
        "colab": {
          "base_uri": "https://localhost:8080/"
        },
        "id": "ANFl1KblMr3t",
        "outputId": "ebf9cbe2-86fe-4d81-b809-cec257bffdeb"
      },
      "execution_count": 24,
      "outputs": [
        {
          "output_type": "stream",
          "name": "stdout",
          "text": [
            "1.1999999999999998e+30\n"
          ]
        }
      ]
    },
    {
      "cell_type": "code",
      "source": [
        "#calc total mass\n",
        "def tot_mass(m1,m2):\n",
        "  return m1+m2"
      ],
      "metadata": {
        "id": "K82svL-cM3XR"
      },
      "execution_count": 25,
      "outputs": []
    },
    {
      "cell_type": "code",
      "source": [
        "M=tot_mass(m1,m2)\n",
        "print(M)"
      ],
      "metadata": {
        "colab": {
          "base_uri": "https://localhost:8080/"
        },
        "id": "tzAeHjl1NWl7",
        "outputId": "f0053688-dae5-48ff-b847-c497d10121ea"
      },
      "execution_count": 26,
      "outputs": [
        {
          "output_type": "stream",
          "name": "stdout",
          "text": [
            "7.5e+30\n"
          ]
        }
      ]
    },
    {
      "cell_type": "code",
      "source": [
        "#calc eccentricity\n",
        "def eccentricity(L,E,u,M):\n",
        "  return (1+(2*(L**2)*E)/((u**3)*(G**2)*(M**2)))**(1/2)"
      ],
      "metadata": {
        "id": "vOI2_3E9Ni0N"
      },
      "execution_count": 27,
      "outputs": []
    },
    {
      "cell_type": "code",
      "source": [
        "e=eccentricity(L,E,u,M)\n",
        "print(e)"
      ],
      "metadata": {
        "colab": {
          "base_uri": "https://localhost:8080/"
        },
        "id": "FYHKjL1FOe77",
        "outputId": "e0a22d8b-ea75-4089-819f-d906296aba8d"
      },
      "execution_count": 28,
      "outputs": [
        {
          "output_type": "stream",
          "name": "stdout",
          "text": [
            "0.183658170914542\n"
          ]
        }
      ]
    },
    {
      "cell_type": "code",
      "source": [
        "#calc semi major axis\n",
        "def sem_maj(M,u,E):\n",
        "  return (G*M*u)/(2*E)\n",
        "  "
      ],
      "metadata": {
        "id": "yyOZvV0mOmet"
      },
      "execution_count": 29,
      "outputs": []
    },
    {
      "cell_type": "code",
      "source": [
        "a=sem_maj(M,u,E)\n",
        "print(a)"
      ],
      "metadata": {
        "colab": {
          "base_uri": "https://localhost:8080/"
        },
        "id": "ZYwlryFVO7Bq",
        "outputId": "971cac3a-8a4b-4c2f-f0d0-4a8079ac5d05"
      },
      "execution_count": 30,
      "outputs": [
        {
          "output_type": "stream",
          "name": "stdout",
          "text": [
            "-1267257758074.731\n"
          ]
        }
      ]
    },
    {
      "cell_type": "code",
      "source": [
        "#calculating distance for perhelion (maybe dont need)\n",
        "def perihelion_rad(a,e):\n",
        "  return a*(1-e)\n",
        "\n",
        "r_peri=perihelion_rad(a,e)\n",
        "print(r_peri)"
      ],
      "metadata": {
        "colab": {
          "base_uri": "https://localhost:8080/"
        },
        "id": "jX4F5YSJsZnN",
        "outputId": "7e5ca026-5f77-4ee6-ebe6-acdd7ee74f54"
      },
      "execution_count": 31,
      "outputs": [
        {
          "output_type": "stream",
          "name": "stdout",
          "text": [
            "-1034515516149.4628\n"
          ]
        }
      ]
    },
    {
      "cell_type": "code",
      "source": [
        "#calculating distance for aphelion (maybe dont need)\n",
        "def aphelion_rad(a,e):\n",
        "  return a*(1+e)\n",
        "\n",
        "r_ap=aphelion_rad(a,e)\n",
        "print(r_ap)"
      ],
      "metadata": {
        "colab": {
          "base_uri": "https://localhost:8080/"
        },
        "id": "HT-Mq6mZvQm5",
        "outputId": "6f220400-cd57-4a7d-a288-1a258747f161"
      },
      "execution_count": 32,
      "outputs": [
        {
          "output_type": "stream",
          "name": "stdout",
          "text": [
            "-1499999999999.9993\n"
          ]
        }
      ]
    },
    {
      "cell_type": "code",
      "source": [
        "#calc location of m1 and m2 (maybe dont need)\n"
      ],
      "metadata": {
        "id": "v6zZ4dGwvvYV"
      },
      "execution_count": 33,
      "outputs": []
    },
    {
      "cell_type": "code",
      "source": [
        "#calc theta-theta knot \n",
        "\n",
        "def theta(L,u,M,r,e,G):\n",
        "  arg=((L**2)/(G*M*(u**2)*r*e))-(1.0/e)\n",
        "  \n",
        "  return np.arccos(np.around(arg,4))\n"
      ],
      "metadata": {
        "id": "Dg7yzWJIJG50"
      },
      "execution_count": 72,
      "outputs": []
    },
    {
      "cell_type": "code",
      "source": [
        "theta=theta(L,u,M,r,e,G)\n",
        "print(theta)"
      ],
      "metadata": {
        "colab": {
          "base_uri": "https://localhost:8080/"
        },
        "id": "-_ddyDY_KJNq",
        "outputId": "e50ad471-288c-46d2-ddaf-84453f69514d"
      },
      "execution_count": 73,
      "outputs": [
        {
          "output_type": "stream",
          "name": "stdout",
          "text": [
            "3.141592653589793\n"
          ]
        }
      ]
    },
    {
      "cell_type": "code",
      "source": [
        "def rho_(L,u,M,r,e,G,theta,d_theta):\n",
        "  return ((L**2)/(G*M*(u**2)*(1.0+e*np.cos(d_theta+theta))))"
      ],
      "metadata": {
        "id": "MfwgPLLYOY8u"
      },
      "execution_count": 108,
      "outputs": []
    },
    {
      "cell_type": "code",
      "source": [
        "rho= rho_(L,u,M,r,e,G,theta,0)\n",
        "print(rho)\n",
        "\n"
      ],
      "metadata": {
        "colab": {
          "base_uri": "https://localhost:8080/"
        },
        "id": "kEovI-TjPvTI",
        "outputId": "4f027ff2-b981-43bc-f52c-37c055c5f606"
      },
      "execution_count": 110,
      "outputs": [
        {
          "output_type": "stream",
          "name": "stdout",
          "text": [
            "1069403265914.8223\n"
          ]
        }
      ]
    },
    {
      "cell_type": "code",
      "source": [
        "def rho_x(rho, theta,d_theta):\n",
        "  return rho*np.cos(d_theta+theta)"
      ],
      "metadata": {
        "id": "CmANNFFaHNrd"
      },
      "execution_count": 111,
      "outputs": []
    },
    {
      "cell_type": "code",
      "source": [
        "rho_x= rho_x(rho, theta,0)\n",
        "print(rho_x)"
      ],
      "metadata": {
        "colab": {
          "base_uri": "https://localhost:8080/"
        },
        "id": "JvCH64hrJzjh",
        "outputId": "c94eba9c-dc39-4e21-b13e-9b082f67a701"
      },
      "execution_count": 112,
      "outputs": [
        {
          "output_type": "stream",
          "name": "stdout",
          "text": [
            "844555278651.5421\n"
          ]
        }
      ]
    },
    {
      "cell_type": "code",
      "source": [
        "def rho_y(rho, theta,d_theta):\n",
        "  return rho*np.sin(d_theta+theta)"
      ],
      "metadata": {
        "id": "nhaBdOf5KDmY"
      },
      "execution_count": 113,
      "outputs": []
    },
    {
      "cell_type": "code",
      "source": [
        "rho_y= rho_y(rho, theta,0)\n",
        "print(rho_y)"
      ],
      "metadata": {
        "colab": {
          "base_uri": "https://localhost:8080/"
        },
        "id": "6yy_Ys5qKJSm",
        "outputId": "43c48497-eb95-4026-f80e-567e65ea15f4"
      },
      "execution_count": 114,
      "outputs": [
        {
          "output_type": "stream",
          "name": "stdout",
          "text": [
            "-656010462150.646\n"
          ]
        }
      ]
    },
    {
      "cell_type": "code",
      "source": [
        "def r_1(u,m1,rho, theta):\n",
        "  r1=(-u/m1)*rho\n",
        "  r1_x=(-u/m1)*rho*np.cos(theta)\n",
        "  r1_y=(-u/m1)*rho*np.sin(theta)\n",
        "  return r1, r1_x, r1_y"
      ],
      "metadata": {
        "id": "UDlIfQhcKUVN"
      },
      "execution_count": 115,
      "outputs": []
    },
    {
      "cell_type": "code",
      "source": [
        "r1, r1_x, r1_y=r_1(u,m1,rho,theta)\n",
        "print(r1, r1_x, r1_y)"
      ],
      "metadata": {
        "colab": {
          "base_uri": "https://localhost:8080/"
        },
        "id": "e2rep4rjKz6a",
        "outputId": "e1effa6f-5411-4dd3-c269-3cfd7c13c15d"
      },
      "execution_count": 116,
      "outputs": [
        {
          "output_type": "stream",
          "name": "stdout",
          "text": [
            "-855522612731.8578 -675644222921.2336 524808369720.5168\n"
          ]
        }
      ]
    },
    {
      "cell_type": "code",
      "source": [
        "def r_2(u,m2,rho, theta):\n",
        "  r2=(u/m1)*rho\n",
        "  r2_x=(u/m1)*rho*np.cos(theta)\n",
        "  r2_y=(u/m2)*rho*np.sin(theta)\n",
        "  return r2, r2_x, r2_y"
      ],
      "metadata": {
        "id": "stuijLA9K6np"
      },
      "execution_count": 117,
      "outputs": []
    },
    {
      "cell_type": "code",
      "source": [
        "r2, r2_x, r2_y=r_2(u,m2,rho,theta)\n",
        "print(r2, r2_x, r2_y)"
      ],
      "metadata": {
        "colab": {
          "base_uri": "https://localhost:8080/"
        },
        "id": "bNWL35CYK_jR",
        "outputId": "58d66694-55cc-4a17-bf3e-7f988c54587c"
      },
      "execution_count": 118,
      "outputs": [
        {
          "output_type": "stream",
          "name": "stdout",
          "text": [
            "855522612731.8578 675644222921.2336 -131202092430.1292\n"
          ]
        }
      ]
    },
    {
      "cell_type": "code",
      "source": [
        "dt         = 365*24*3600\n",
        "nsteps     = 500\n",
        "rho1=rho_(L,u,M,r,e,G,theta,0)\n",
        "timesteps  = np.linspace(0, (nsteps)*dt, nsteps, endpoint=False)\n",
        "for index_in_timestep, time in enumerate(timesteps):\n",
        "       dtheta = L/u/rho**2*dt\n",
        "       theta += dtheta\n",
        "       rho1=rho_(L,u,M,r,e,G,theta,0)\n",
        "       r1, r1_x, r1_y=r_1(u,m1,rho1,theta)\n",
        "       r2, r2_x, r2_y=r_2(u,m2,rho1,theta)\n"
      ],
      "metadata": {
        "id": "bxobe1fzOMpi"
      },
      "execution_count": 122,
      "outputs": []
    },
    {
      "cell_type": "code",
      "source": [
        ""
      ],
      "metadata": {
        "id": "0u-s37WZTPSA"
      },
      "execution_count": null,
      "outputs": []
    }
  ]
}