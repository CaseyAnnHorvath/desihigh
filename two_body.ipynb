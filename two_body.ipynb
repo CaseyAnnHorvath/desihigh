{
  "nbformat": 4,
  "nbformat_minor": 0,
  "metadata": {
    "colab": {
      "name": "two_body.ipynb",
      "provenance": [],
      "collapsed_sections": [],
      "authorship_tag": "ABX9TyP+IyJCADQJA1xSCyqT/+ya",
      "include_colab_link": true
    },
    "kernelspec": {
      "name": "python3",
      "display_name": "Python 3"
    },
    "language_info": {
      "name": "python"
    }
  },
  "cells": [
    {
      "cell_type": "markdown",
      "metadata": {
        "id": "view-in-github",
        "colab_type": "text"
      },
      "source": [
        "<a href=\"https://colab.research.google.com/github/CaseyAnnHorvath/desihigh/blob/main/two_body.ipynb\" target=\"_parent\"><img src=\"https://colab.research.google.com/assets/colab-badge.svg\" alt=\"Open In Colab\"/></a>"
      ]
    },
    {
      "cell_type": "code",
      "execution_count": 1,
      "metadata": {
        "colab": {
          "base_uri": "https://localhost:8080/"
        },
        "id": "_9XXTHzUDrvM",
        "outputId": "a5318815-ed22-4b1e-8d41-582160405c5d"
      },
      "outputs": [
        {
          "output_type": "stream",
          "name": "stdout",
          "text": [
            "Mounted at /content/drive\n"
          ]
        }
      ],
      "source": [
        "from google.colab import drive\n",
        "drive.mount('/content/drive')"
      ]
    },
    {
      "cell_type": "code",
      "source": [
        "import sys\n",
        "sys.path.append('/content/drive/MyDrive/desihigh/')"
      ],
      "metadata": {
        "id": "7fdvZERHD4X7"
      },
      "execution_count": 2,
      "outputs": []
    },
    {
      "cell_type": "code",
      "source": [
        "import time\n",
        "import astropy\n",
        "import itertools\n",
        "import matplotlib\n",
        "\n",
        "import numpy             as np\n",
        "import pylab             as pl\n",
        "import matplotlib.pyplot as plt\n",
        "import astropy.units     as u\n",
        "\n",
        "from   astropy.cosmology import FlatLambdaCDM\n",
        "from   IPython.display   import YouTubeVideo\n",
        "from   tools.flops       import flops"
      ],
      "metadata": {
        "id": "snf0wTCwD4jW"
      },
      "execution_count": 3,
      "outputs": []
    },
    {
      "cell_type": "code",
      "source": [
        "from IPython.display import clear_output\n",
        "from time import sleep"
      ],
      "metadata": {
        "id": "Efcox2omD4tS"
      },
      "execution_count": 4,
      "outputs": []
    },
    {
      "cell_type": "code",
      "source": [
        "%matplotlib inline\n",
        "\n",
        "plt.style.use('dark_background')"
      ],
      "metadata": {
        "id": "i_qZmPtaD40n"
      },
      "execution_count": 5,
      "outputs": []
    },
    {
      "cell_type": "code",
      "source": [
        "def init_dof(npt=1):\n",
        "  #  Create a set of particles at random positions in a box, which will soon predict the distribution of dark matter \n",
        "  #  as we see above.\n",
        "  xs     = np.random.uniform(0., 1., npt)\n",
        "  ys     = np.random.uniform(0., 1., npt)\n",
        "  zs     = np.random.uniform(0., 1., npt)\n",
        "\n",
        "  pos    = np.vstack((xs,ys,zs)).T\n",
        "  vel    = np.zeros_like(pos)\n",
        "\n",
        "  return  pos, vel"
      ],
      "metadata": {
        "id": "1jVC-9LkD48F"
      },
      "execution_count": 6,
      "outputs": []
    },
    {
      "cell_type": "code",
      "source": [
        "npt = 2\n",
        "pos, vel  = init_dof(npt=npt)\n",
        "mass=np.zeros_like(pos)\n"
      ],
      "metadata": {
        "id": "r1j74orGE9x_"
      },
      "execution_count": 7,
      "outputs": []
    },
    {
      "cell_type": "code",
      "source": [
        "i = 0\n",
        "pos[i][0]=0\n",
        "pos[i][1]=0\n",
        "pos[i][2]=0\n",
        "pos[0]\n",
        "\n",
        "i = 1\n",
        "pos[i][0]=1.5e12\n",
        "pos[i][1]=0\n",
        "pos[i][2]=0\n",
        "\n",
        "\n",
        "\n",
        "# vel of particle 1\n",
        "i=0\n",
        "\n",
        "vel[i][0]=0\n",
        "vel[i][1]=11000\n",
        "vel[i][2]=0\n",
        "\n",
        "i=1\n",
        "\n",
        "vel[i][1]=0\n",
        "vel[i][1]=-5500\n",
        "vel[i][2]=0\n",
        "\n",
        "\n",
        "\n",
        "mass[0]=1.5e30\n",
        "mass[1]=6e30"
      ],
      "metadata": {
        "id": "MRmZg-TXFNY4"
      },
      "execution_count": 8,
      "outputs": []
    },
    {
      "cell_type": "code",
      "source": [
        "def com(pos,mass):  #defining CoM function, \n",
        "  result=np.sum(mass*pos,axis=0)/np.sum(mass)\n",
        "  return result"
      ],
      "metadata": {
        "id": "PTPPjccOGVmw"
      },
      "execution_count": 9,
      "outputs": []
    },
    {
      "cell_type": "code",
      "source": [
        "Rcom=com(pos,mass)"
      ],
      "metadata": {
        "id": "4To0a5OdLZNX"
      },
      "execution_count": 14,
      "outputs": []
    },
    {
      "cell_type": "code",
      "source": [
        "print, Rcom"
      ],
      "metadata": {
        "colab": {
          "base_uri": "https://localhost:8080/"
        },
        "id": "pWWE58-3HBdH",
        "outputId": "cfc7f62a-aca6-4032-bf74-6098ee567e31"
      },
      "execution_count": 16,
      "outputs": [
        {
          "output_type": "execute_result",
          "data": {
            "text/plain": [
              "(<function print>, array([4.e+11, 0.e+00, 0.e+00]))"
            ]
          },
          "metadata": {},
          "execution_count": 16
        }
      ]
    },
    {
      "cell_type": "code",
      "source": [
        "pos_com=pos-Rcom\n",
        "print, pos_com"
      ],
      "metadata": {
        "colab": {
          "base_uri": "https://localhost:8080/"
        },
        "id": "_CJ0gW_ALMwh",
        "outputId": "ec92d878-c089-4ff2-b6f5-cb19f0eb96a3"
      },
      "execution_count": 18,
      "outputs": [
        {
          "output_type": "execute_result",
          "data": {
            "text/plain": [
              "(<function print>, array([[-4.0e+11,  0.0e+00,  0.0e+00],\n",
              "        [ 1.1e+12,  0.0e+00,  0.0e+00]]))"
            ]
          },
          "metadata": {},
          "execution_count": 18
        }
      ]
    },
    {
      "cell_type": "code",
      "source": [
        "def com_vel(vel,mass):\n",
        "  result=np.sum(mass*vel,axis=0)/np.sum(mass)\n",
        "  return result\n",
        "\n",
        "def findCoM(m1, r1, v1, m2, r2, v2):\n",
        "  return (m1*r1 + m2*r2)/(m1+m2), (m1*v1 + m2*v2)/(m1+m2)"
      ],
      "metadata": {
        "id": "m2KS5G_pJcnv"
      },
      "execution_count": 19,
      "outputs": []
    },
    {
      "cell_type": "code",
      "source": [
        "print(findCoM(1.5e30, 0, 11000, 6e30, 1.5e12, -5500))\n",
        "#print, com_vel(vel,mass)"
      ],
      "metadata": {
        "colab": {
          "base_uri": "https://localhost:8080/"
        },
        "id": "3M2Ljk2-Kglz",
        "outputId": "d27c8286-343b-4710-c2f0-121ad98d71e8"
      },
      "execution_count": 20,
      "outputs": [
        {
          "output_type": "stream",
          "name": "stdout",
          "text": [
            "(1200000000000.0, -2200.0)\n"
          ]
        }
      ]
    },
    {
      "cell_type": "code",
      "source": [
        ""
      ],
      "metadata": {
        "id": "HelqBwCrMqjU"
      },
      "execution_count": null,
      "outputs": []
    }
  ]
}