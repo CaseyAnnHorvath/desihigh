{
  "nbformat": 4,
  "nbformat_minor": 0,
  "metadata": {
    "colab": {
      "name": "two_body.ipynb",
      "provenance": [],
      "collapsed_sections": [],
      "authorship_tag": "ABX9TyPxtc8kkE+qHy8FcOR3UWVm",
      "include_colab_link": true
    },
    "kernelspec": {
      "name": "python3",
      "display_name": "Python 3"
    },
    "language_info": {
      "name": "python"
    }
  },
  "cells": [
    {
      "cell_type": "markdown",
      "metadata": {
        "id": "view-in-github",
        "colab_type": "text"
      },
      "source": [
        "<a href=\"https://colab.research.google.com/github/CaseyAnnHorvath/desihigh/blob/main/two_body.ipynb\" target=\"_parent\"><img src=\"https://colab.research.google.com/assets/colab-badge.svg\" alt=\"Open In Colab\"/></a>"
      ]
    },
    {
      "cell_type": "code",
      "execution_count": 1,
      "metadata": {
        "colab": {
          "base_uri": "https://localhost:8080/"
        },
        "id": "_9XXTHzUDrvM",
        "outputId": "e7e2d252-5a8e-4385-979c-f4a079fa5ef9"
      },
      "outputs": [
        {
          "output_type": "stream",
          "name": "stdout",
          "text": [
            "Mounted at /content/drive\n"
          ]
        }
      ],
      "source": [
        "from google.colab import drive\n",
        "drive.mount('/content/drive')"
      ]
    },
    {
      "cell_type": "code",
      "source": [
        "import sys\n",
        "sys.path.append('/content/drive/MyDrive/desihigh/')"
      ],
      "metadata": {
        "id": "7fdvZERHD4X7"
      },
      "execution_count": 2,
      "outputs": []
    },
    {
      "cell_type": "code",
      "source": [
        "import time\n",
        "import astropy\n",
        "import itertools\n",
        "import matplotlib\n",
        "\n",
        "import numpy             as np\n",
        "import pylab             as pl\n",
        "import matplotlib.pyplot as plt\n",
        "import astropy.units     as u\n",
        "\n",
        "from   astropy.cosmology import FlatLambdaCDM\n",
        "from   IPython.display   import YouTubeVideo\n",
        "from   tools.flops       import flops"
      ],
      "metadata": {
        "id": "snf0wTCwD4jW"
      },
      "execution_count": 3,
      "outputs": []
    },
    {
      "cell_type": "code",
      "source": [
        "from IPython.display import clear_output\n",
        "from time import sleep"
      ],
      "metadata": {
        "id": "Efcox2omD4tS"
      },
      "execution_count": 4,
      "outputs": []
    },
    {
      "cell_type": "code",
      "source": [
        "%matplotlib inline\n",
        "\n",
        "plt.style.use('dark_background')"
      ],
      "metadata": {
        "id": "i_qZmPtaD40n"
      },
      "execution_count": 5,
      "outputs": []
    },
    {
      "cell_type": "code",
      "source": [
        "def init_dof(npt=1):\n",
        "  #  Create a set of particles at random positions in a box, which will soon predict the distribution of dark matter \n",
        "  #  as we see above.\n",
        "  xs     = np.random.uniform(0., 1., npt)\n",
        "  ys     = np.random.uniform(0., 1., npt)\n",
        "  zs     = np.random.uniform(0., 1., npt)\n",
        "\n",
        "  pos    = np.vstack((xs,ys,zs)).T\n",
        "  vel    = np.zeros_like(pos)\n",
        "\n",
        "  return  pos, vel"
      ],
      "metadata": {
        "id": "1jVC-9LkD48F"
      },
      "execution_count": 6,
      "outputs": []
    },
    {
      "cell_type": "code",
      "source": [
        "npt = 2\n",
        "pos, vel  = init_dof(npt=npt)\n",
        "mass=np.zeros_like(pos)\n"
      ],
      "metadata": {
        "id": "r1j74orGE9x_"
      },
      "execution_count": 7,
      "outputs": []
    },
    {
      "cell_type": "code",
      "source": [
        "i = 0\n",
        "pos[i][0]=0\n",
        "pos[i][1]=0\n",
        "pos[i][2]=0\n",
        "pos[0]\n",
        "\n",
        "i = 1\n",
        "pos[i][0]=1.5e12\n",
        "pos[i][1]=0\n",
        "pos[i][2]=0\n",
        "\n",
        "\n",
        "\n",
        "# vel of particle 1\n",
        "i=0\n",
        "\n",
        "vel[i][0]=0\n",
        "vel[i][1]=11000\n",
        "vel[i][2]=0\n",
        "\n",
        "i=1\n",
        "\n",
        "vel[i][1]=0\n",
        "vel[i][1]=-5500\n",
        "vel[i][2]=0\n",
        "\n",
        "\n",
        "\n",
        "mass[0]=1.5e30\n",
        "mass[1]=6e30"
      ],
      "metadata": {
        "id": "MRmZg-TXFNY4"
      },
      "execution_count": 8,
      "outputs": []
    },
    {
      "cell_type": "code",
      "source": [
        "def com(pos,mass):  #defining CoM function, \n",
        "  result=np.dot(mass*pos)/np.sum(mass)\n",
        "  return result"
      ],
      "metadata": {
        "id": "PTPPjccOGVmw"
      },
      "execution_count": 35,
      "outputs": []
    },
    {
      "cell_type": "code",
      "source": [
        "#Rcom=com(pos,mass)"
      ],
      "metadata": {
        "id": "4To0a5OdLZNX",
        "colab": {
          "base_uri": "https://localhost:8080/",
          "height": 287
        },
        "outputId": "8ded447d-a020-40d7-b4cb-dfe9a30f8efc"
      },
      "execution_count": 36,
      "outputs": [
        {
          "output_type": "error",
          "ename": "TypeError",
          "evalue": "ignored",
          "traceback": [
            "\u001b[0;31m---------------------------------------------------------------------------\u001b[0m",
            "\u001b[0;31mTypeError\u001b[0m                                 Traceback (most recent call last)",
            "\u001b[0;32m<ipython-input-36-25bc29f55b45>\u001b[0m in \u001b[0;36m<module>\u001b[0;34m()\u001b[0m\n\u001b[0;32m----> 1\u001b[0;31m \u001b[0mRcom\u001b[0m\u001b[0;34m=\u001b[0m\u001b[0mcom\u001b[0m\u001b[0;34m(\u001b[0m\u001b[0mpos\u001b[0m\u001b[0;34m,\u001b[0m\u001b[0mmass\u001b[0m\u001b[0;34m)\u001b[0m\u001b[0;34m\u001b[0m\u001b[0;34m\u001b[0m\u001b[0m\n\u001b[0m",
            "\u001b[0;32m<ipython-input-35-5077f1d31a6d>\u001b[0m in \u001b[0;36mcom\u001b[0;34m(pos, mass)\u001b[0m\n\u001b[1;32m      1\u001b[0m \u001b[0;32mdef\u001b[0m \u001b[0mcom\u001b[0m\u001b[0;34m(\u001b[0m\u001b[0mpos\u001b[0m\u001b[0;34m,\u001b[0m\u001b[0mmass\u001b[0m\u001b[0;34m)\u001b[0m\u001b[0;34m:\u001b[0m  \u001b[0;31m#defining CoM function,\u001b[0m\u001b[0;34m\u001b[0m\u001b[0;34m\u001b[0m\u001b[0m\n\u001b[0;32m----> 2\u001b[0;31m   \u001b[0mresult\u001b[0m\u001b[0;34m=\u001b[0m\u001b[0mnp\u001b[0m\u001b[0;34m.\u001b[0m\u001b[0mdot\u001b[0m\u001b[0;34m(\u001b[0m\u001b[0mmass\u001b[0m\u001b[0;34m*\u001b[0m\u001b[0mpos\u001b[0m\u001b[0;34m)\u001b[0m\u001b[0;34m/\u001b[0m\u001b[0mnp\u001b[0m\u001b[0;34m.\u001b[0m\u001b[0msum\u001b[0m\u001b[0;34m(\u001b[0m\u001b[0mmass\u001b[0m\u001b[0;34m)\u001b[0m\u001b[0;34m\u001b[0m\u001b[0;34m\u001b[0m\u001b[0m\n\u001b[0m\u001b[1;32m      3\u001b[0m   \u001b[0;32mreturn\u001b[0m \u001b[0mresult\u001b[0m\u001b[0;34m\u001b[0m\u001b[0;34m\u001b[0m\u001b[0m\n",
            "\u001b[0;32m<__array_function__ internals>\u001b[0m in \u001b[0;36mdot\u001b[0;34m(*args, **kwargs)\u001b[0m\n",
            "\u001b[0;31mTypeError\u001b[0m: dot() missing 1 required positional argument: 'b'"
          ]
        }
      ]
    },
    {
      "cell_type": "code",
      "source": [
        "print, Rcom"
      ],
      "metadata": {
        "colab": {
          "base_uri": "https://localhost:8080/"
        },
        "id": "pWWE58-3HBdH",
        "outputId": "c6e23750-8b59-491f-e4f6-0f7893233749"
      },
      "execution_count": 37,
      "outputs": [
        {
          "output_type": "execute_result",
          "data": {
            "text/plain": [
              "(<function print>, array([4.e+11, 0.e+00, 0.e+00]))"
            ]
          },
          "metadata": {},
          "execution_count": 37
        }
      ]
    },
    {
      "cell_type": "code",
      "source": [
        "pos_com=pos-Rcom\n",
        "print, pos_com"
      ],
      "metadata": {
        "colab": {
          "base_uri": "https://localhost:8080/"
        },
        "id": "_CJ0gW_ALMwh",
        "outputId": "4629e10c-0ab7-40b0-e9de-1fd01b9ee41b"
      },
      "execution_count": 12,
      "outputs": [
        {
          "output_type": "execute_result",
          "data": {
            "text/plain": [
              "(<function print>, array([[-4.0e+11,  0.0e+00,  0.0e+00],\n",
              "        [ 1.1e+12,  0.0e+00,  0.0e+00]]))"
            ]
          },
          "metadata": {},
          "execution_count": 12
        }
      ]
    },
    {
      "cell_type": "code",
      "source": [
        "#defining original values for the 2 bodies\n",
        "\n",
        "m1=1.5e30\n",
        "m2=6e30\n",
        "\n",
        "v1=1.1e4\n",
        "v2=-5.5e3\n",
        "\n",
        "r1=0\n",
        "r2=1.5e12\n",
        "\n",
        "#distance between m1 and m2\n",
        "r=r2-r1\n"
      ],
      "metadata": {
        "id": "m_vcZU6cFzVY"
      },
      "execution_count": 48,
      "outputs": []
    },
    {
      "cell_type": "code",
      "source": [
        "def com_vel(vel,mass):\n",
        "  result=np.sum(mass*vel,axis=0)/np.sum(mass)\n",
        "  return result\n",
        "\n",
        "#Simple 2body version\n",
        "\n",
        "def findCoM(m1, r1, v1, m2, r2, v2):\n",
        "  return (m1*r1 + m2*r2)/(m1+m2), (m1*v1 + m2*v2)/(m1+m2)"
      ],
      "metadata": {
        "id": "m2KS5G_pJcnv"
      },
      "execution_count": 49,
      "outputs": []
    },
    {
      "cell_type": "code",
      "source": [
        "#dont need anymore\n",
        "#print(findCoM(m1, r1, v1, m2, r2, v2)) #1.5e30, 0, 11000, 6e30, 1.5e12, -5500\n",
        "#print, com_vel(vel,mass)"
      ],
      "metadata": {
        "id": "3M2Ljk2-Kglz"
      },
      "execution_count": 50,
      "outputs": []
    },
    {
      "cell_type": "code",
      "source": [
        "com_pos, com_vel = findCoM(m1, r1, v1, m2, r2, v2)\n",
        "print(com_pos, com_vel)"
      ],
      "metadata": {
        "id": "HelqBwCrMqjU",
        "colab": {
          "base_uri": "https://localhost:8080/"
        },
        "outputId": "d7fb5adf-4449-4b29-c1f9-01c0a21b40a4"
      },
      "execution_count": 51,
      "outputs": [
        {
          "output_type": "stream",
          "name": "stdout",
          "text": [
            "1200000000000.0 -2200.0\n"
          ]
        }
      ]
    },
    {
      "cell_type": "code",
      "source": [
        "#setting com reference frome to 0 vel\n",
        "\n",
        "v1=v1-com_vel\n",
        "v2=v2-com_vel\n",
        "\n",
        "print(v1,v2)"
      ],
      "metadata": {
        "colab": {
          "base_uri": "https://localhost:8080/"
        },
        "id": "GNdEsMiVISBa",
        "outputId": "d29a0572-75cf-4dc0-b9c9-55c7ff3a56ff"
      },
      "execution_count": 52,
      "outputs": [
        {
          "output_type": "stream",
          "name": "stdout",
          "text": [
            "13200.0 -3300.0\n"
          ]
        }
      ]
    },
    {
      "cell_type": "code",
      "source": [
        "#Gravitational Constant\n",
        "G=6.67e-11"
      ],
      "metadata": {
        "id": "9u5NHTeLHBxu"
      },
      "execution_count": 53,
      "outputs": []
    },
    {
      "cell_type": "code",
      "source": [
        "#energy calculation\n",
        "\n",
        "\n",
        "def energy(m1,v1,m2,v2,r):\n",
        "  return .5*m1*(v1**2)+.5*m2*(v2**2)-((G*m1*m2)/r)\n",
        "  "
      ],
      "metadata": {
        "id": "wIYEhhprJUBJ"
      },
      "execution_count": 54,
      "outputs": []
    },
    {
      "cell_type": "code",
      "source": [
        "E=energy(m1,v1,m2,v2,r)\n",
        "print(E)"
      ],
      "metadata": {
        "colab": {
          "base_uri": "https://localhost:8080/"
        },
        "id": "NNtE2IniKWmo",
        "outputId": "5cc1afcb-ce6f-4770-da90-bcc76b42f261"
      },
      "execution_count": 56,
      "outputs": [
        {
          "output_type": "stream",
          "name": "stdout",
          "text": [
            "-2.3684999999999995e+38\n"
          ]
        }
      ]
    },
    {
      "cell_type": "code",
      "source": [
        "#angular momentum calculation\n",
        "def ang_momentum(m1,m2,v1,v2,r1,r2):\n",
        "  return m1*v1*r1+m2*v2*r2"
      ],
      "metadata": {
        "id": "TRkTQbjqKsb5"
      },
      "execution_count": 57,
      "outputs": []
    },
    {
      "cell_type": "code",
      "source": [
        "L=ang_momentum(m1,m2,v1,v2,r1,r2)\n",
        "print(L)"
      ],
      "metadata": {
        "colab": {
          "base_uri": "https://localhost:8080/"
        },
        "id": "Vzm08xPFL7A5",
        "outputId": "739650df-dbbc-443e-e1ca-de4388a60cdc"
      },
      "execution_count": 58,
      "outputs": [
        {
          "output_type": "stream",
          "name": "stdout",
          "text": [
            "-2.9699999999999997e+46\n"
          ]
        }
      ]
    },
    {
      "cell_type": "code",
      "source": [
        "#calc reduced mass\n",
        "def reduced_mass(m1,m2):\n",
        "  return (m1*m2)/(m1+m2)\n",
        "  "
      ],
      "metadata": {
        "id": "0kHHcqkDMU6k"
      },
      "execution_count": 59,
      "outputs": []
    },
    {
      "cell_type": "code",
      "source": [
        "u=reduced_mass(m1,m2)\n",
        "print(u)"
      ],
      "metadata": {
        "colab": {
          "base_uri": "https://localhost:8080/"
        },
        "id": "ANFl1KblMr3t",
        "outputId": "6df16f47-cd54-46b5-a4f7-56b7f63a4806"
      },
      "execution_count": 60,
      "outputs": [
        {
          "output_type": "stream",
          "name": "stdout",
          "text": [
            "1.1999999999999998e+30\n"
          ]
        }
      ]
    },
    {
      "cell_type": "code",
      "source": [
        "#calc total mass\n",
        "def tot_mass(m1,m2):\n",
        "  return m1+m2"
      ],
      "metadata": {
        "id": "K82svL-cM3XR"
      },
      "execution_count": 61,
      "outputs": []
    },
    {
      "cell_type": "code",
      "source": [
        "M=tot_mass(m1,m2)\n",
        "print(M)"
      ],
      "metadata": {
        "colab": {
          "base_uri": "https://localhost:8080/"
        },
        "id": "tzAeHjl1NWl7",
        "outputId": "1774dd1b-f75e-499f-d901-2925ca0bdbac"
      },
      "execution_count": 62,
      "outputs": [
        {
          "output_type": "stream",
          "name": "stdout",
          "text": [
            "7.5e+30\n"
          ]
        }
      ]
    },
    {
      "cell_type": "code",
      "source": [
        "#calc eccentricity\n",
        "def eccentricity(L,E,u,M):\n",
        "  return (1+(2*(L**2)*E)/((u**3)*(G**2)*(M**2)))**(1/2)"
      ],
      "metadata": {
        "id": "vOI2_3E9Ni0N"
      },
      "execution_count": 63,
      "outputs": []
    },
    {
      "cell_type": "code",
      "source": [
        "e=eccentricity(L,E,u,M)\n",
        "print(e)"
      ],
      "metadata": {
        "colab": {
          "base_uri": "https://localhost:8080/"
        },
        "id": "FYHKjL1FOe77",
        "outputId": "7665feab-8968-43b2-b523-b16d849d4f0c"
      },
      "execution_count": 64,
      "outputs": [
        {
          "output_type": "stream",
          "name": "stdout",
          "text": [
            "0.183658170914542\n"
          ]
        }
      ]
    },
    {
      "cell_type": "code",
      "source": [
        "#calc semi major axis\n",
        "def sem_maj(M,u,E):\n",
        "  return (G*M*u)/(2*E)\n",
        "  "
      ],
      "metadata": {
        "id": "yyOZvV0mOmet"
      },
      "execution_count": 65,
      "outputs": []
    },
    {
      "cell_type": "code",
      "source": [
        "a=sem_maj(M,u,E)\n",
        "print(a)"
      ],
      "metadata": {
        "colab": {
          "base_uri": "https://localhost:8080/"
        },
        "id": "ZYwlryFVO7Bq",
        "outputId": "fdc2105b-2b70-4511-d3d8-508f531be2fa"
      },
      "execution_count": 66,
      "outputs": [
        {
          "output_type": "stream",
          "name": "stdout",
          "text": [
            "-1267257758074.731\n"
          ]
        }
      ]
    },
    {
      "cell_type": "code",
      "source": [
        "#calculating distance for perhelion (maybe dont need)\n",
        "def perihelion_rad(a,e):\n",
        "  return a*(1-e)\n",
        "\n",
        "r_peri=perihelion_rad(a,e)\n",
        "print(r_peri)"
      ],
      "metadata": {
        "colab": {
          "base_uri": "https://localhost:8080/"
        },
        "id": "jX4F5YSJsZnN",
        "outputId": "45d28e11-6677-4ea5-c11d-b85cb04b5b53"
      },
      "execution_count": 67,
      "outputs": [
        {
          "output_type": "stream",
          "name": "stdout",
          "text": [
            "-1034515516149.4628\n"
          ]
        }
      ]
    },
    {
      "cell_type": "code",
      "source": [
        "#calculating distance for aphelion (maybe dont need)\n",
        "def aphelion_rad(a,e):\n",
        "  return a*(1+e)\n",
        "\n",
        "r_ap=aphelion_rad(a,e)\n",
        "print(r_ap)"
      ],
      "metadata": {
        "colab": {
          "base_uri": "https://localhost:8080/"
        },
        "id": "HT-Mq6mZvQm5",
        "outputId": "ca774c55-8ae8-434c-ccf7-02e3fa68f1fb"
      },
      "execution_count": 68,
      "outputs": [
        {
          "output_type": "stream",
          "name": "stdout",
          "text": [
            "-1499999999999.9993\n"
          ]
        }
      ]
    },
    {
      "cell_type": "code",
      "source": [
        "#calc location of m1 and m2 (maybe dont need)\n"
      ],
      "metadata": {
        "id": "v6zZ4dGwvvYV"
      },
      "execution_count": 69,
      "outputs": []
    },
    {
      "cell_type": "code",
      "source": [
        "#calc theta-theta knot \n",
        "\n",
        "def d_theta(L,u,M,r,e,G):\n",
        "  arg=((L**2)/(G*M*(u**2)*r*e))-(1.0/e)\n",
        "  \n",
        "  return np.arccos(np.around(arg,4))\n"
      ],
      "metadata": {
        "id": "Dg7yzWJIJG50"
      },
      "execution_count": 104,
      "outputs": []
    },
    {
      "cell_type": "code",
      "source": [
        "d_theta=d_theta(L,u,M,r,e,G)\n",
        "print(d_theta)"
      ],
      "metadata": {
        "colab": {
          "base_uri": "https://localhost:8080/"
        },
        "id": "-_ddyDY_KJNq",
        "outputId": "aa9b9091-de3e-45e5-c7fe-4112ef7d87a8"
      },
      "execution_count": 105,
      "outputs": [
        {
          "output_type": "stream",
          "name": "stdout",
          "text": [
            "3.141592653589793\n"
          ]
        }
      ]
    },
    {
      "cell_type": "code",
      "source": [
        "def roh(L,u,M,r,e,G,d_theta,theta):\n",
        "  return ((L**2)/(G*M*(u**2)*(1.0+e*np.cos(theta+d_theta))))"
      ],
      "metadata": {
        "id": "MfwgPLLYOY8u"
      },
      "execution_count": 106,
      "outputs": []
    },
    {
      "cell_type": "code",
      "source": [
        "roh= roh(L,u,M,r,e,G,d_theta,0)\n",
        "print(roh)"
      ],
      "metadata": {
        "colab": {
          "base_uri": "https://localhost:8080/"
        },
        "id": "kEovI-TjPvTI",
        "outputId": "0fe30ef5-51c1-4523-b5a9-b78ffba1a14c"
      },
      "execution_count": 107,
      "outputs": [
        {
          "output_type": "stream",
          "name": "stdout",
          "text": [
            "1499999999999.9988\n"
          ]
        }
      ]
    }
  ]
}