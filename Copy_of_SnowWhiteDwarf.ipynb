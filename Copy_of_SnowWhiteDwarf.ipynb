{
  "cells": [
    {
      "cell_type": "markdown",
      "metadata": {
        "id": "view-in-github",
        "colab_type": "text"
      },
      "source": [
        "<a href=\"https://colab.research.google.com/github/CaseyAnnHorvath/desihigh/blob/main/Copy_of_SnowWhiteDwarf.ipynb\" target=\"_parent\"><img src=\"https://colab.research.google.com/assets/colab-badge.svg\" alt=\"Open In Colab\"/></a>"
      ]
    },
    {
      "cell_type": "code",
      "source": [
        "from google.colab import drive\n",
        "drive.mount('/content/drive')"
      ],
      "metadata": {
        "id": "_YUN_qKhDMAt",
        "outputId": "b0ad7cb9-af71-4d25-e056-8c6d29cf9235",
        "colab": {
          "base_uri": "https://localhost:8080/"
        }
      },
      "execution_count": null,
      "outputs": [
        {
          "output_type": "stream",
          "name": "stdout",
          "text": [
            "Mounted at /content/drive\n"
          ]
        }
      ]
    },
    {
      "cell_type": "code",
      "source": [
        "import sys"
      ],
      "metadata": {
        "id": "Rirb8sEzDZBU"
      },
      "execution_count": null,
      "outputs": []
    },
    {
      "cell_type": "code",
      "source": [
        "sys.path.append('/content/drive/MyDrive/desihigh/')"
      ],
      "metadata": {
        "id": "woYfHCF8DeWC"
      },
      "execution_count": null,
      "outputs": []
    },
    {
      "cell_type": "code",
      "execution_count": null,
      "metadata": {
        "id": "wAsMwR1uDDTg"
      },
      "outputs": [],
      "source": [
        "import os\n",
        "import numpy               as     np\n",
        "import astropy.io.fits     as     fits\n",
        "import pylab               as     pl\n",
        "import pandas              as     pd\n",
        "import matplotlib.pyplot   as     plt \n",
        "\n",
        "from   IPython.display     import YouTubeVideo\n",
        "from   scipy               import interpolate\n",
        "from   scipy               import optimize\n",
        "from   tools.wave2rgb      import wavelength_to_rgb\n",
        "from   tools.resample_flux import trapz_rebin\n",
        "from   pkg_resources       import resource_filename"
      ]
    },
    {
      "cell_type": "markdown",
      "metadata": {
        "id": "losdB0y5DDTp"
      },
      "source": [
        "# A snow white dwarf"
      ]
    },
    {
      "cell_type": "markdown",
      "metadata": {
        "id": "Ehu3P7IPDDTt"
      },
      "source": [
        "When you look to the sky, who knows what you will find?  We're all familiar with our own [sun](https://solarsystem.nasa.gov/solar-system/sun/overview/), "
      ]
    },
    {
      "cell_type": "markdown",
      "metadata": {
        "id": "gV2mPrdNDDTu"
      },
      "source": [
        "<img src=\"https://github.com/CaseyAnnHorvath/desihigh/blob/main/desihigh/images/sun.jpg?raw=1\" alt=\"Drawing\" style=\"width: 800px;\"/>"
      ]
    },
    {
      "cell_type": "markdown",
      "metadata": {
        "id": "PaBralQcDDTw"
      },
      "source": [
        "a seemingly ever present that we see continually day-to-day.  Would it surprise you to know that in 5.5 billion years the sun will change beyond recognition as the Hydrogen fuelling nuclear fusion within runs out?  "
      ]
    },
    {
      "cell_type": "markdown",
      "metadata": {
        "id": "g7eJ14ZmDDTx"
      },
      "source": [
        "<img src=\"https://github.com/CaseyAnnHorvath/desihigh/blob/main/desihigh/images/RedGiant.jpg?raw=1\" alt=\"Drawing\" style=\"width: 800px;\"/>"
      ]
    },
    {
      "cell_type": "markdown",
      "metadata": {
        "id": "DVdttG-TDDTz"
      },
      "source": [
        "During this apparent mid-life crisis, the sun will begin to fuse Helium to create the carbon fundamental to life on earth, and the oxygen necessary to sustain it.  Expanding to ten-to-hundreds the size of the sun today, it will soon envelope Mercury & Venus, and perhaps [even Earth itself](https://phys.org/news/2016-05-earth-survive-sun-red-giant.html#:~:text=Red%20Giant%20Phase%3A,collapses%20under%20its%20own%20weight.), and eventual explode as a spectacular [planetary nebulae](https://www.space.com/17715-planetary-nebula.html): "
      ]
    },
    {
      "cell_type": "markdown",
      "metadata": {
        "id": "jED5t3nYDDT1"
      },
      "source": [
        "<img src=\"https://github.com/CaseyAnnHorvath/desihigh/blob/main/desihigh/images/PlanetaryNebulae.jpg?raw=1\" alt=\"Drawing\" style=\"width: 800px;\"/>"
      ]
    },
    {
      "cell_type": "markdown",
      "metadata": {
        "id": "iCsPnmG_DDT3"
      },
      "source": [
        "The ashen carbon-oxygen at the center will survive as a fossilised relic, dissipating energy just slowly enough that it will continue to survive for another 13.8 billion years, the current age of our Universe, and see in many more millenia."
      ]
    },
    {
      "cell_type": "markdown",
      "metadata": {
        "id": "epC_U3LNDDT5"
      },
      "source": [
        "We can learn about this eventual fate of the sun, and its impact on Earth, by studying neighbouring White Dwarves in the Milky Way.  We'll look at one such candidate that DESI has observed only recently!"
      ]
    },
    {
      "cell_type": "code",
      "execution_count": null,
      "metadata": {
        "id": "PE4RvkHbDDT6"
      },
      "outputs": [],
      "source": [
        "# Load the DESI spectrum\n",
        "andes = resource_filename('desihigh', 'student_andes')\n",
        "\n",
        "zbest = fits.open(andes + '/zbest-mws-66003-20200315-wd.fits')[1]\n",
        "coadd = fits.open(andes + '/coadd-mws-66003-20200315-wd.fits')"
      ]
    },
    {
      "cell_type": "code",
      "execution_count": null,
      "metadata": {
        "id": "JlDwKSGFDDT7",
        "outputId": "3a541ae0-3a47-4326-e2e5-1951b06acd05",
        "colab": {
          "base_uri": "https://localhost:8080/"
        }
      },
      "outputs": [
        {
          "output_type": "stream",
          "name": "stdout",
          "text": [
            "181.56933732791623 58.064214172605546\n"
          ]
        }
      ],
      "source": [
        "# Get its position on the sky:\n",
        "ra, dec = float(zbest.data['TARGET_RA']), float(zbest.data['TARGET_DEC'])\n",
        "z=float(zbest.data['z'])\n",
        "#print,zbest.header\n",
        "print(ra,dec)"
      ]
    },
    {
      "cell_type": "markdown",
      "metadata": {
        "id": "f4I1aODzDDT8"
      },
      "source": [
        "It's position on the night sky lies just above [Ursa Marjor](https://en.wikipedia.org/wiki/Ursa_Major) or the Great Bear,"
      ]
    },
    {
      "cell_type": "markdown",
      "metadata": {
        "id": "igNMgqOVDDT9"
      },
      "source": [
        "<img src=\"https://github.com/CaseyAnnHorvath/desihigh/blob/main/desihigh/images/UrsaMajor.jpg?raw=1\" alt=\"Drawing\" style=\"width: 800px;\"/>"
      ]
    },
    {
      "cell_type": "markdown",
      "metadata": {
        "id": "ylBUTDhZDDT-"
      },
      "source": [
        "familiar in the night sky:"
      ]
    },
    {
      "cell_type": "markdown",
      "metadata": {
        "id": "mPe-YyoEDDT-"
      },
      "source": [
        "<img src=\"https://github.com/CaseyAnnHorvath/desihigh/blob/main/desihigh/images/UrsaMajor2.png?raw=1\" alt=\"Drawing\" style=\"width: 800px;\"/>"
      ]
    },
    {
      "cell_type": "markdown",
      "metadata": {
        "id": "38DK18-TDDT_"
      },
      "source": [
        "If you were to stare long enough, you'd see an almost imperceptible change in the apparent position as our viewpoint changes as the Earth orbits the Sun.  Remember, the dinosaurs roamed planet Earth on the other side of the galaxy!\n",
        "\n",
        "The motion of the Earth around the sun is just enough, given a precise enough instrument, to calculate the distance to our White Dwarf given simple trigonometry you've likely already seen:  "
      ]
    },
    {
      "cell_type": "markdown",
      "metadata": {
        "id": "FwBQMQIODDUA"
      },
      "source": [
        "<img src=\"https://github.com/CaseyAnnHorvath/desihigh/blob/main/desihigh/images/PDistance.jpg?raw=1\" alt=\"Drawing\" style=\"width: 800px;\"/>"
      ]
    },
    {
      "cell_type": "markdown",
      "metadata": {
        "id": "Y3Fhlhb-DDUA"
      },
      "source": [
        "The [GAIA](https://www.esa.int/Science_Exploration/Space_Science/Gaia_overview) space satellite was precisely designed to do this this and will eventually map one billion stars in the Milky Way, roughly one in every hundred there, in this way."
      ]
    },
    {
      "cell_type": "markdown",
      "metadata": {
        "id": "qUEjqZm6DDUB"
      },
      "source": [
        "<img src=\"https://github.com/CaseyAnnHorvath/desihigh/blob/main/desihigh/images/Gaia.jpg?raw=1\" alt=\"Drawing\" style=\"width: 800px;\"/>"
      ]
    },
    {
      "cell_type": "markdown",
      "metadata": {
        "id": "sN4CEnd5DDUC"
      },
      "source": [
        "With this parallax, GAIA tells us the distance to our white dwarf:  "
      ]
    },
    {
      "cell_type": "code",
      "execution_count": 20,
      "metadata": {
        "id": "crq9KOmMDDUD",
        "outputId": "ad5f255e-dd1c-4be1-b636-9dd92b09fa02",
        "colab": {
          "base_uri": "https://localhost:8080/"
        }
      },
      "outputs": [
        {
          "output_type": "stream",
          "name": "stdout",
          "text": [
            "The parallax for this star is 0.001\n"
          ]
        }
      ],
      "source": [
        "# Distance calculated from Gaia parallax (Bailer-Jones et al. 2018).\n",
        "# Photometric data and the [computed distance](https://ui.adsabs.harvard.edu/abs/2018AJ....156...58B/) can be found at the [Gaia Archive](https://gea.esac.esa.int/archive/)\n",
        "dist_para = 784.665266     # parcsecs, 1 parsec = 3.0857 x 10^16 m. \n",
        "\n",
        "\n",
        "parsec    = 3.085677581e16 # m \n",
        "\n",
        "# AU: Astronomical Unit - distance between the Sun and the Earth.\n",
        "au        = 1.495978707e11 # m\n",
        "\n",
        "\n",
        "\n",
        "print('The parallax for this star is {:.3f}'.format(1/dist_para))\n",
        "\n",
        "def distance(r):\n",
        "  return 1/r\n",
        "\n",
        "\n"
      ]
    },
    {
      "cell_type": "code",
      "source": [
        "distance(.1)\n",
        "distance(10)"
      ],
      "metadata": {
        "id": "NH5m7LAdKJc4",
        "outputId": "438e2bb5-a0cc-4377-91be-86c949dae1c5",
        "colab": {
          "base_uri": "https://localhost:8080/"
        }
      },
      "execution_count": 22,
      "outputs": [
        {
          "output_type": "execute_result",
          "data": {
            "text/plain": [
              "0.1"
            ]
          },
          "metadata": {},
          "execution_count": 22
        }
      ]
    },
    {
      "cell_type": "code",
      "execution_count": null,
      "metadata": {
        "id": "nTk_LzpjDDUD",
        "outputId": "848a7a7a-6a02-45b9-a091-e49f0cd7131d",
        "colab": {
          "base_uri": "https://localhost:8080/"
        }
      },
      "outputs": [
        {
          "output_type": "stream",
          "name": "stdout",
          "text": [
            "GAIA parallax tells us that the distance to our White Dwarf is 162 million x the distance from the Earth to the Sun.\n"
          ]
        }
      ],
      "source": [
        "print('GAIA parallax tells us that the distance to our White Dwarf is {:.0f} million x the distance from the Earth to the Sun.'.format(dist_para * parsec / au / 1.e6))"
      ]
    },
    {
      "cell_type": "markdown",
      "metadata": {
        "id": "iFn_EKy4DDUF"
      },
      "source": [
        "The GAIA camera is designed to measure the brightness of the white dwarf in three different parts of the visible spectrum, corresponding to the colors shown below.  You'll recognise this as the same style plot we explored for Hydrogen Rydberg lines in the Intro."
      ]
    },
    {
      "cell_type": "code",
      "execution_count": null,
      "metadata": {
        "id": "46HeKLjWDDUG"
      },
      "outputs": [],
      "source": [
        "# (Pivot) Wavelengths for the Gaia DR2 filters.\n",
        "GAIA = {'G_WAVE': 6230.6, 'BP_WAVE': 5051.5, 'RP_WAVE': 7726.2}"
      ]
    },
    {
      "cell_type": "code",
      "execution_count": 23,
      "metadata": {
        "id": "Jf5Z3RP7DDUG",
        "outputId": "e79f1eee-539c-425d-bb31-61090d1551de",
        "colab": {
          "base_uri": "https://localhost:8080/",
          "height": 315
        }
      },
      "outputs": [
        {
          "output_type": "execute_result",
          "data": {
            "text/plain": [
              "(380.0, 780.0)"
            ]
          },
          "metadata": {},
          "execution_count": 23
        },
        {
          "output_type": "display_data",
          "data": {
            "image/png": "[encoded data removed]",
            "text/plain": [
              "<Figure size 432x288 with 1 Axes>"
            ]
          },
          "metadata": {
            "needs_background": "light"
          }
        }
      ],
      "source": [
        "for wave in GAIA.values():\n",
        "  # color = [r, g, b]\n",
        "  color = wavelength_to_rgb(wave / 10.)       \n",
        "  pl.axvline(x=wave / 10., c=color)\n",
        "\n",
        "  pl.axhline(y=0.5, c='b')\n",
        "\n",
        "pl.title('Wavelengths (and colors) at which GAIA measures the brightness of each star', pad=10.5, fontsize=10)\n",
        "pl.xlabel('Vacuum wavelength [nanometers]')\n",
        "#pl.ylabel('Brightness')\n",
        "pl.xlim(380., 780.)"
      ]
    },
    {
      "cell_type": "code",
      "execution_count": 14,
      "metadata": {
        "id": "x-QDQpOrDDUH"
      },
      "outputs": [],
      "source": [
        "for band in ['G', 'BP', 'RP']:\n",
        "    GAIA[band + '_MAG']  = zbest.data['GAIA_PHOT_{}_MEAN_MAG'.format(band)][0]    \n",
        "    GAIA[band + '_FLUX'] = 10.**(-(GAIA[band + '_MAG'] + (25.7934 - 25.6884)) / 2.5) * 3631. / 3.34e4 / GAIA[band + '_WAVE']**2."
      ]
    },
    {
      "cell_type": "code",
      "execution_count": 25,
      "metadata": {
        "id": "5eJLdrgJDDUI"
      },
      "outputs": [],
      "source": [
        "# Add in the mag. errors that DESI catalogues don't propagate.\n",
        "GAIA['G_MAGERR']  = 0.0044\n",
        "GAIA['BP_MAGERR'] = 0.0281\n",
        "GAIA['RP_MAGERR'] = 0.0780\n",
        "GAIA['EXAMPLE'] = 0.0 #one i added"
      ]
    },
    {
      "cell_type": "code",
      "execution_count": 27,
      "metadata": {
        "id": "6tXnx9K5DDUI",
        "outputId": "c67d2d4c-1215-4a6e-d5bb-333b2265f183",
        "colab": {
          "base_uri": "https://localhost:8080/"
        }
      },
      "outputs": [
        {
          "output_type": "stream",
          "name": "stdout",
          "text": [
            "G_WAVE     \t 6.2306e+03\n",
            "BP_WAVE    \t 5.0515e+03\n",
            "RP_WAVE    \t 7.7262e+03\n",
            "G_MAG      \t 1.9515e+01\n",
            "G_FLUX     \t 3.9756e-17\n",
            "BP_MAG     \t 1.9348e+01\n",
            "BP_FLUX    \t 7.0501e-17\n",
            "RP_MAG     \t 1.9710e+01\n",
            "RP_FLUX    \t 2.1597e-17\n",
            "G_MAGERR   \t 4.4000e-03\n",
            "BP_MAGERR  \t 2.8100e-02\n",
            "RP_MAGERR  \t 7.8000e-02\n",
            "EXAMPLE    \t 0.0000e+00\n"
          ]
        }
      ],
      "source": [
        "for key, value in GAIA.items():\n",
        "    print('{:10s} \\t {:05.4e}'.format(key, value))\n"
      ]
    },
    {
      "cell_type": "code",
      "source": [
        "#Calculating Luminosity\n",
        "\n",
        "def Lum(d,F):\n",
        "  result= F*4.*np.pi*d**2\n",
        "  return result\n",
        "#Luminosity = 4*np.pi*d**2 what i attempted"
      ],
      "metadata": {
        "id": "wVHx2WksIOy6"
      },
      "execution_count": 28,
      "outputs": []
    },
    {
      "cell_type": "code",
      "source": [
        "G_lum=Lum(dist_para*parsec,GAIA['G_FLUX'])\n",
        "print('The G band luminosity must be {:5.3e} Watts.'.format(G_lum))"
      ],
      "metadata": {
        "colab": {
          "base_uri": "https://localhost:8080/"
        },
        "id": "9mdvrzN8IfZR",
        "outputId": "0267c704-4a32-48ad-cd1d-c66309e7bfda"
      },
      "execution_count": 29,
      "outputs": [
        {
          "output_type": "stream",
          "name": "stdout",
          "text": [
            "The G band luminosity must be 2.929e+23 Watts.\n"
          ]
        }
      ]
    },
    {
      "cell_type": "markdown",
      "metadata": {
        "id": "k7CwRIViDDUJ"
      },
      "source": [
        "This combination, a measurement of distance (from parallax) and of apparent brightness (in a number of colors), is incredibly powerful, as together they tell us the intrinsic luminosity or brightness of the dwarf rather than how it appears to us, from which we can determine what physics could be determining how bright the white dwarf is."
      ]
    },
    {
      "cell_type": "markdown",
      "metadata": {
        "id": "bmHOM3s5DDUK"
      },
      "source": [
        "# DESI"
      ]
    },
    {
      "cell_type": "markdown",
      "metadata": {
        "id": "0SdoSw8HDDUK"
      },
      "source": [
        "By resolving the subtle variations in the amount of light with wavelength, DESI gives us a much better idea of the White Dwarf composition and its history from its entire spectrum, rather than a few measurements at different colors:"
      ]
    },
    {
      "cell_type": "code",
      "execution_count": 31,
      "metadata": {
        "id": "YAalA5E3DDUK",
        "colab": {
          "base_uri": "https://localhost:8080/"
        },
        "outputId": "03736421-54c1-4772-9dfe-29944439de68"
      },
      "outputs": [
        {
          "output_type": "execute_result",
          "data": {
            "text/plain": [
              "(<function print>,\n",
              " array([3600. , 3600.8, 3601.6, ..., 9822.4, 9823.2, 9824. ]),\n",
              " array([19.83247596, 20.21172825, 20.86586555, ...,  0.96770842,\n",
              "         0.94016326,  0.92251305]))"
            ]
          },
          "metadata": {},
          "execution_count": 31
        }
      ],
      "source": [
        "# Get the wavelength and flux\n",
        "wave  = coadd[1].data['WAVELENGTH']\n",
        "count = coadd[1].data['TARGET35191335094848528']\n",
        "print,wave,count"
      ]
    },
    {
      "cell_type": "code",
      "source": [
        "#mean wavelength (i added)\n",
        "wavemean=np.mean(wave)\n",
        "resol=wavemean/0.8\n",
        "\n",
        "print,wavemean,resol"
      ],
      "metadata": {
        "colab": {
          "base_uri": "https://localhost:8080/"
        },
        "id": "Av8x_d6_JlcF",
        "outputId": "9a139266-9fb3-4213-8aa3-1f08001e6ca7"
      },
      "execution_count": 32,
      "outputs": [
        {
          "output_type": "execute_result",
          "data": {
            "text/plain": [
              "(<function print>, 6719.611962804968, 8399.51495350621)"
            ]
          },
          "metadata": {},
          "execution_count": 32
        }
      ]
    },
    {
      "cell_type": "code",
      "execution_count": 36,
      "metadata": {
        "id": "MIG9KaCEDDUL",
        "outputId": "8178fab8-4922-45d0-c019-0409f41b1db0",
        "colab": {
          "base_uri": "https://localhost:8080/",
          "height": 645
        }
      },
      "outputs": [
        {
          "output_type": "execute_result",
          "data": {
            "text/plain": [
              "Text(0.5, 1.0, 'TARGET35191335094848528')"
            ]
          },
          "metadata": {},
          "execution_count": 36
        },
        {
          "output_type": "display_data",
          "data": {
            "image/png": "[encoded data removed]",
            "text/plain": [
              "<Figure size 1440x720 with 1 Axes>"
            ]
          },
          "metadata": {
            "needs_background": "light"
          }
        }
      ],
      "source": [
        "# Plotting the DESI spectrum\n",
        "pl.figure(figsize=(20, 10))\n",
        "pl.plot(wave, count)\n",
        "pl.grid()\n",
        "pl.xlabel('Wavelength $[\\AA]$')\n",
        "pl.ylim(ymin=0., ymax=25) #can change ymax\n",
        "pl.title('TARGET35191335094848528')\n",
        "\n",
        "#this is the white dwarf spectrum"
      ]
    },
    {
      "cell_type": "markdown",
      "metadata": {
        "id": "4w59oXC2DDUL"
      },
      "source": [
        "Astronomers have spent a long time studying stars, classifying them according to different types - not least [Annie Jump Cannon](https://www.womenshistory.org/education-resources/biographies/annie-jump-cannon), "
      ]
    },
    {
      "cell_type": "markdown",
      "metadata": {
        "id": "E1fFcXXADDUM"
      },
      "source": [
        "<img src=\"https://github.com/CaseyAnnHorvath/desihigh/blob/main/desihigh/images/anniecannon.jpg?raw=1\" alt=\"Drawing\" style=\"width: 800px;\"/>"
      ]
    },
    {
      "cell_type": "markdown",
      "metadata": {
        "id": "CIEhHQTqDDUM"
      },
      "source": [
        "that has left us with a new ability to predict the spectrum of a star of given temperature, little $g$ - the acceleration due to gravity on their surface, and their mass.  Given 'standard' stars, those with external distance constraints we can also determine how intrinsically bright a given star is with a determined spectrum.  Let's grab these:"
      ]
    },
    {
      "cell_type": "code",
      "execution_count": 37,
      "metadata": {
        "id": "IjQJ1uCVDDUN",
        "outputId": "e6afd9c4-cc9c-424a-a328-88e43a86eeea",
        "colab": {
          "base_uri": "https://localhost:8080/"
        }
      },
      "outputs": [
        {
          "output_type": "stream",
          "name": "stdout",
          "text": [
            "Collected 66 model spectra.\n"
          ]
        }
      ],
      "source": [
        "# White Dwarf model spectra [Levenhagen 2017](https://ui.adsabs.harvard.edu/abs/2017ApJS..231....1L)\n",
        "wdspec             = resource_filename('desihigh', 'dat/WDspec')\n",
        "spec_da_list       = os.listdir(wdspec)\n",
        "model_flux_spec_da = []\n",
        "model_wave_spec_da = []\n",
        "\n",
        "T_spec_da          = []\n",
        "logg_spec_da       = []\n",
        "\n",
        "# Loop over files in the directory and collect into a list. \n",
        "for filename in spec_da_list:\n",
        "    if filename[-4:] != '.npz':\n",
        "        continue\n",
        "    model = np.load(wdspec + '/' + filename)['arr_0']\n",
        "    model_flux_spec_da.append(model[:,1])\n",
        "    model_wave_spec_da.append(model[:,0])\n",
        "    T, logg = filename.split('.')[0].split('t0')[-1].split('g')\n",
        "    T_spec_da.append(float(T) * 1000.)\n",
        "    logg_spec_da.append(float(logg[:-1]) / 10.)\n",
        "    \n",
        "print('Collected {:d} model spectra.'.format(len(spec_da_list)))"
      ]
    },
    {
      "cell_type": "code",
      "execution_count": 38,
      "metadata": {
        "id": "cCxeswSbDDUO",
        "outputId": "6b95c4f0-18fa-4fa5-9688-e96bb21cb844",
        "colab": {
          "base_uri": "https://localhost:8080/",
          "height": 297
        }
      },
      "outputs": [
        {
          "output_type": "execute_result",
          "data": {
            "text/plain": [
              "Text(0, 0.5, 'Normalised flux')"
            ]
          },
          "metadata": {},
          "execution_count": 38
        },
        {
          "output_type": "display_data",
          "data": {
            "image/png": "[encoded data removed]",
            "text/plain": [
              "<Figure size 432x288 with 1 Axes>"
            ]
          },
          "metadata": {
            "needs_background": "light"
          }
        }
      ],
      "source": [
        "# We'll select every 10th model white dwarf spectra to plot. \n",
        "nth = 10\n",
        "\n",
        "for model_wave, model_flux, model_temp in zip(model_wave_spec_da[::nth], model_flux_spec_da[::nth], T_spec_da[::nth]):\n",
        "    pl.plot(model_wave, model_flux / model_flux[-1], label=r'$T = {:.1e}$'.format(model_temp))\n",
        "\n",
        "# Other commands to set the plot\n",
        "pl.xlim(3000., 10000.)\n",
        "# pl.ylim(ymin=1., ymax=3.6)\n",
        "pl.legend(frameon=False, ncol=2)\n",
        "pl.xlabel('Wavelength [Angstroms]')\n",
        "pl.ylabel('Normalised flux')"
      ]
    },
    {
      "cell_type": "markdown",
      "metadata": {
        "id": "z4ODJMatDDUO"
      },
      "source": [
        "Firstly, these white dwarves are hot!  At 240,000 Kelvin, you shouldn't touch one.  While we can see that the hottest white dwarf is brightest at short wavelength and will therefore appear blue.  In exactly the same way as the bluest part of a flame is the hottest:"
      ]
    },
    {
      "cell_type": "markdown",
      "source": [
        "![picture](https://drive.google.com/uc?export=view&id=1oasQUVkkG9bJQLbtl8DO9TClN3mx97Ea)"
      ],
      "metadata": {
        "id": "GeCHmhTBQVif"
      }
    },
    {
      "cell_type": "markdown",
      "metadata": {
        "id": "FLm1FQhyDDUP"
      },
      "source": [
        "<img src=\"https://github.com/CaseyAnnHorvath/desihigh/blob/main/desihigh/images/bunsen.jpg?raw=1\" alt=\"Drawing\" style=\"width: 280px;\"/>"
      ]
    },
    {
      "cell_type": "markdown",
      "metadata": {
        "id": "aFKB9LaiDDUP"
      },
      "source": [
        "So now we have everything to find the temperature of the White Dwarf that DESI was able to find.  As for the Intro., we simply find the model that looks most like the data.  "
      ]
    },
    {
      "cell_type": "code",
      "execution_count": 39,
      "metadata": {
        "id": "1rGLCBI_DDUQ"
      },
      "outputs": [],
      "source": [
        "# wavelength range to be fitted\n",
        "wave_min = 3750.\n",
        "wave_max = 5200.\n",
        "\n",
        "sq_diff  = []\n",
        "\n",
        "# Masking the range to be fitted\n",
        "fitted_range = (wave > wave_min) & (wave < wave_max)\n",
        "fitted_wave  =  wave[fitted_range] \n",
        "\n",
        "for model_wave, model_flux in zip(model_wave_spec_da, model_flux_spec_da):\n",
        "    # Resample the model resoltuion to match the observed spectrum\n",
        "    model_flux_resampled = trapz_rebin(model_wave, model_flux, fitted_wave)\n",
        "    \n",
        "    # Compute the sum of the squared difference of the individually normalised model and observed spectra\n",
        "    sq_diff.append(np.sum((model_flux_resampled / np.median(model_flux_resampled) - count[fitted_range] / np.median(count[fitted_range]))**2.))\n",
        "    \n",
        "# Unit-weighted least-squared best-fit surface gravity and temperature from the DESI spctrum\n",
        "arg_min   = np.argmin(sq_diff)\n",
        "T_desi    = T_spec_da[arg_min]\n",
        "logg_desi = logg_spec_da[arg_min]"
      ]
    },
    {
      "cell_type": "code",
      "execution_count": 40,
      "metadata": {
        "id": "n3uyH0VwDDUQ",
        "outputId": "b746e5db-f424-4dc2-e562-6efceedc20c2",
        "colab": {
          "base_uri": "https://localhost:8080/",
          "height": 641
        }
      },
      "outputs": [
        {
          "output_type": "execute_result",
          "data": {
            "text/plain": [
              "Text(0.5, 1.0, 'DESI White Dwarf:   Temperature = 26000.0 K;  $\\\\log_{10}$(g) = 7.6')"
            ]
          },
          "metadata": {},
          "execution_count": 40
        },
        {
          "output_type": "display_data",
          "data": {
            "image/png": "[encoded data removed]",
            "text/plain": [
              "<Figure size 1080x720 with 1 Axes>"
            ]
          },
          "metadata": {
            "needs_background": "light"
          }
        }
      ],
      "source": [
        "# Plot the best fit only\n",
        "fitted_range = (model_wave_spec_da[arg_min] > wave_min) & (model_wave_spec_da[arg_min] < wave_max)\n",
        "fitted_range_data = (wave > wave_min) & (wave < wave_max)\n",
        "\n",
        "pl.figure(figsize=(15, 10))\n",
        "pl.plot(wave[fitted_range_data], count[fitted_range_data] / np.median(count[fitted_range_data]), label='DESI spectrum')\n",
        "pl.plot(model_wave_spec_da[arg_min][fitted_range], model_flux_spec_da[arg_min][fitted_range] / np.median(model_flux_spec_da[arg_min][fitted_range]), label='Best-fit model')\n",
        "pl.grid()\n",
        "pl.xlim(wave_min, wave_max)\n",
        "pl.xlabel('Wavelength [Angstroms]')\n",
        "pl.ylabel('Normalised Flux')\n",
        "pl.legend(frameon=False)\n",
        "pl.title('DESI White Dwarf:   Temperature = ' + str(T_desi) + ' K;  $\\log_{10}$(g) = ' + str(logg_desi))"
      ]
    },
    {
      "cell_type": "markdown",
      "metadata": {
        "id": "gOjcj15bDDUR"
      },
      "source": [
        "So our white dwarf is a cool 26,000 Kelvin.  While the surface gravity would be unbearable.  If you remember, the gravitational acceleration is derived from the mass and radius of a body as $g = \\frac{G \\cdot M}{r^2}$ and is roughly a measure of how dense an object is.  Let's see what this looks like for a few well known sources"
      ]
    },
    {
      "cell_type": "code",
      "execution_count": 41,
      "metadata": {
        "id": "xo3dL2LtDDUR",
        "outputId": "36c97de2-cccf-4b46-c433-1afe821e85d9",
        "colab": {
          "base_uri": "https://localhost:8080/",
          "height": 457
        }
      },
      "outputs": [
        {
          "output_type": "execute_result",
          "data": {
            "text/html": [
              "\n",
              "  <div id=\"df-32d3a5a8-b9bc-43e7-bee7-a48c9d751328\">\n",
              "    <div class=\"colab-df-container\">\n",
              "      <div>\n",
              "<style scoped>\n",
              "    .dataframe tbody tr th:only-of-type {\n",
              "        vertical-align: middle;\n",
              "    }\n",
              "\n",
              "    .dataframe tbody tr th {\n",
              "        vertical-align: top;\n",
              "    }\n",
              "\n",
              "    .dataframe thead th {\n",
              "        text-align: right;\n",
              "    }\n",
              "</style>\n",
              "<table border=\"1\" class=\"dataframe\">\n",
              "  <thead>\n",
              "    <tr style=\"text-align: right;\">\n",
              "      <th></th>\n",
              "      <th>Body</th>\n",
              "      <th>Surface Gravity [g]</th>\n",
              "    </tr>\n",
              "  </thead>\n",
              "  <tbody>\n",
              "    <tr>\n",
              "      <th>6</th>\n",
              "      <td>Phobos</td>\n",
              "      <td>0.000581</td>\n",
              "    </tr>\n",
              "    <tr>\n",
              "      <th>12</th>\n",
              "      <td>Pluto</td>\n",
              "      <td>0.063000</td>\n",
              "    </tr>\n",
              "    <tr>\n",
              "      <th>9</th>\n",
              "      <td>Europa</td>\n",
              "      <td>0.134000</td>\n",
              "    </tr>\n",
              "    <tr>\n",
              "      <th>4</th>\n",
              "      <td>Moon</td>\n",
              "      <td>0.165000</td>\n",
              "    </tr>\n",
              "    <tr>\n",
              "      <th>8</th>\n",
              "      <td>Io</td>\n",
              "      <td>0.183000</td>\n",
              "    </tr>\n",
              "    <tr>\n",
              "      <th>1</th>\n",
              "      <td>Mercury</td>\n",
              "      <td>0.377000</td>\n",
              "    </tr>\n",
              "    <tr>\n",
              "      <th>5</th>\n",
              "      <td>Mars</td>\n",
              "      <td>0.379000</td>\n",
              "    </tr>\n",
              "    <tr>\n",
              "      <th>2</th>\n",
              "      <td>Venus</td>\n",
              "      <td>0.905000</td>\n",
              "    </tr>\n",
              "    <tr>\n",
              "      <th>3</th>\n",
              "      <td>Earth</td>\n",
              "      <td>1.000000</td>\n",
              "    </tr>\n",
              "    <tr>\n",
              "      <th>10</th>\n",
              "      <td>Saturn</td>\n",
              "      <td>1.065000</td>\n",
              "    </tr>\n",
              "    <tr>\n",
              "      <th>11</th>\n",
              "      <td>Neptune</td>\n",
              "      <td>1.137000</td>\n",
              "    </tr>\n",
              "    <tr>\n",
              "      <th>7</th>\n",
              "      <td>Jupyter</td>\n",
              "      <td>2.528000</td>\n",
              "    </tr>\n",
              "    <tr>\n",
              "      <th>0</th>\n",
              "      <td>Sun</td>\n",
              "      <td>28.020000</td>\n",
              "    </tr>\n",
              "  </tbody>\n",
              "</table>\n",
              "</div>\n",
              "      <button class=\"colab-df-convert\" onclick=\"convertToInteractive('df-32d3a5a8-b9bc-43e7-bee7-a48c9d751328')\"\n",
              "              title=\"Convert this dataframe to an interactive table.\"\n",
              "              style=\"display:none;\">\n",
              "        \n",
              "  <svg xmlns=\"http://www.w3.org/2000/svg\" height=\"24px\"viewBox=\"0 0 24 24\"\n",
              "       width=\"24px\">\n",
              "    <path d=\"M0 0h24v24H0V0z\" fill=\"none\"/>\n",
              "    <path d=\"M18.56 5.44l.94 2.06.94-2.06 2.06-.94-2.06-.94-.94-2.06-.94 2.06-2.06.94zm-11 1L8.5 8.5l.94-2.06 2.06-.94-2.06-.94L8.5 2.5l-.94 2.06-2.06.94zm10 10l.94 2.06.94-2.06 2.06-.94-2.06-.94-.94-2.06-.94 2.06-2.06.94z\"/><path d=\"M17.41 7.96l-1.37-1.37c-.4-.4-.92-.59-1.43-.59-.52 0-1.04.2-1.43.59L10.3 9.45l-7.72 7.72c-.78.78-.78 2.05 0 2.83L4 21.41c.39.39.9.59 1.41.59.51 0 1.02-.2 1.41-.59l7.78-7.78 2.81-2.81c.8-.78.8-2.07 0-2.86zM5.41 20L4 18.59l7.72-7.72 1.47 1.35L5.41 20z\"/>\n",
              "  </svg>\n",
              "      </button>\n",
              "      \n",
              "  <style>\n",
              "    .colab-df-container {\n",
              "      display:flex;\n",
              "      flex-wrap:wrap;\n",
              "      gap: 12px;\n",
              "    }\n",
              "\n",
              "    .colab-df-convert {\n",
              "      background-color: #E8F0FE;\n",
              "      border: none;\n",
              "      border-radius: 50%;\n",
              "      cursor: pointer;\n",
              "      display: none;\n",
              "      fill: #1967D2;\n",
              "      height: 32px;\n",
              "      padding: 0 0 0 0;\n",
              "      width: 32px;\n",
              "    }\n",
              "\n",
              "    .colab-df-convert:hover {\n",
              "      background-color: #E2EBFA;\n",
              "      box-shadow: 0px 1px 2px rgba(60, 64, 67, 0.3), 0px 1px 3px 1px rgba(60, 64, 67, 0.15);\n",
              "      fill: #174EA6;\n",
              "    }\n",
              "\n",
              "    [theme=dark] .colab-df-convert {\n",
              "      background-color: #3B4455;\n",
              "      fill: #D2E3FC;\n",
              "    }\n",
              "\n",
              "    [theme=dark] .colab-df-convert:hover {\n",
              "      background-color: #434B5C;\n",
              "      box-shadow: 0px 1px 3px 1px rgba(0, 0, 0, 0.15);\n",
              "      filter: drop-shadow(0px 1px 2px rgba(0, 0, 0, 0.3));\n",
              "      fill: #FFFFFF;\n",
              "    }\n",
              "  </style>\n",
              "\n",
              "      <script>\n",
              "        const buttonEl =\n",
              "          document.querySelector('#df-32d3a5a8-b9bc-43e7-bee7-a48c9d751328 button.colab-df-convert');\n",
              "        buttonEl.style.display =\n",
              "          google.colab.kernel.accessAllowed ? 'block' : 'none';\n",
              "\n",
              "        async function convertToInteractive(key) {\n",
              "          const element = document.querySelector('#df-32d3a5a8-b9bc-43e7-bee7-a48c9d751328');\n",
              "          const dataTable =\n",
              "            await google.colab.kernel.invokeFunction('convertToInteractive',\n",
              "                                                     [key], {});\n",
              "          if (!dataTable) return;\n",
              "\n",
              "          const docLinkHtml = 'Like what you see? Visit the ' +\n",
              "            '<a target=\"_blank\" href=https://colab.research.google.com/notebooks/data_table.ipynb>data table notebook</a>'\n",
              "            + ' to learn more about interactive tables.';\n",
              "          element.innerHTML = '';\n",
              "          dataTable['output_type'] = 'display_data';\n",
              "          await google.colab.output.renderOutput(dataTable, element);\n",
              "          const docLink = document.createElement('div');\n",
              "          docLink.innerHTML = docLinkHtml;\n",
              "          element.appendChild(docLink);\n",
              "        }\n",
              "      </script>\n",
              "    </div>\n",
              "  </div>\n",
              "  "
            ],
            "text/plain": [
              "       Body  Surface Gravity [g]\n",
              "6    Phobos             0.000581\n",
              "12    Pluto             0.063000\n",
              "9    Europa             0.134000\n",
              "4      Moon             0.165000\n",
              "8        Io             0.183000\n",
              "1   Mercury             0.377000\n",
              "5      Mars             0.379000\n",
              "2     Venus             0.905000\n",
              "3     Earth             1.000000\n",
              "10   Saturn             1.065000\n",
              "11  Neptune             1.137000\n",
              "7   Jupyter             2.528000\n",
              "0       Sun            28.020000"
            ]
          },
          "metadata": {},
          "execution_count": 41
        }
      ],
      "source": [
        "logg = pd.read_csv(resource_filename('desihigh', 'dat/logg.txt'), sep='\\s+', comment='#', names=['Body', 'Surface Gravity [g]'])\n",
        "logg = logg.sort_values('Surface Gravity [g]')\n",
        "logg"
      ]
    },
    {
      "cell_type": "code",
      "execution_count": 42,
      "metadata": {
        "id": "CymQ-m51DDUS",
        "outputId": "771defee-c8e9-497d-8c5c-400672bf74de",
        "colab": {
          "base_uri": "https://localhost:8080/",
          "height": 315
        }
      },
      "outputs": [
        {
          "output_type": "execute_result",
          "data": {
            "text/plain": [
              "Text(0, 0.5, 'Surface gravity [g]')"
            ]
          },
          "metadata": {},
          "execution_count": 42
        },
        {
          "output_type": "display_data",
          "data": {
            "image/png": "[encoded data removed]",
            "text/plain": [
              "<Figure size 432x288 with 1 Axes>"
            ]
          },
          "metadata": {
            "needs_background": "light"
          }
        }
      ],
      "source": [
        "fig, ax = plt.subplots()\n",
        "\n",
        "pl.plot(np.arange(0, len(logg), 1), logg['Surface Gravity [g]'], marker='.', c='k')\n",
        "\n",
        "plt.xticks(np.arange(len(logg)))\n",
        "ax.set_xticklabels(logg['Body'], rotation='vertical')\n",
        "ax.set_ylabel('Surface gravity [g]')"
      ]
    },
    {
      "cell_type": "markdown",
      "metadata": {
        "id": "QY1Y5e7MDDUT"
      },
      "source": [
        "So the acceleration on Jupyter is a few times higher than that on earth, while on the Sun it'd be 30 times higher.  The force you feel during takeoff of a flight is roughly 30% larger than the acceleration due to gravity on Earth.  For our DESI white dwarf, the acceleration due to gravity on the surface is:"
      ]
    },
    {
      "cell_type": "code",
      "execution_count": 43,
      "metadata": {
        "id": "h-WgiwgWDDUT",
        "outputId": "05cb307b-c4b1-4776-fd90-aaaa5caf6252",
        "colab": {
          "base_uri": "https://localhost:8080/"
        }
      },
      "outputs": [
        {
          "output_type": "execute_result",
          "data": {
            "text/plain": [
              "40581.770698623535"
            ]
          },
          "metadata": {},
          "execution_count": 43
        }
      ],
      "source": [
        "logg = 7.6 \n",
        "\n",
        "g    = 10.**7.6 # cm2 / s.\n",
        "g   /= 100.     # m2 / s\n",
        "\n",
        "g   /= 9.81     # Relative to that on Earth, i.e. [g].   \n",
        "g"
      ]
    },
    {
      "cell_type": "markdown",
      "metadata": {
        "id": "-cWx_ucyDDUU"
      },
      "source": [
        "times higher than that on Earth!  In fact, if it weren't for strange restrictions on what electrons can and cannot not do (as determined by Quantum Mechanics), the White Dwarf would be so dense it would collapse entirely.  Go figure! "
      ]
    },
    {
      "cell_type": "markdown",
      "metadata": {
        "id": "KH_q1blsDDUU"
      },
      "source": [
        "Now it's your turn.  Can you find an class of object even more dense than a White Dwarf?  What is the acceleration due to gravity on its surface?  "
      ]
    },
    {
      "cell_type": "markdown",
      "metadata": {
        "id": "zT4oZuwUDDUV"
      },
      "source": [
        "Harder(!)  You may be one of the first to see this White Dwarf 'up close'!  What else can you find out about it?  Here's something to get you started ... "
      ]
    },
    {
      "cell_type": "code",
      "execution_count": null,
      "metadata": {
        "id": "pVxc-2GFDDUV",
        "outputId": "31b554c7-b4ad-4e63-8e5a-adbf8615108b"
      },
      "outputs": [
        {
          "data": {
            "text/html": [
              "<div>\n",
              "<style scoped>\n",
              "    .dataframe tbody tr th:only-of-type {\n",
              "        vertical-align: middle;\n",
              "    }\n",
              "\n",
              "    .dataframe tbody tr th {\n",
              "        vertical-align: top;\n",
              "    }\n",
              "\n",
              "    .dataframe thead th {\n",
              "        text-align: right;\n",
              "    }\n",
              "</style>\n",
              "<table border=\"1\" class=\"dataframe\">\n",
              "  <thead>\n",
              "    <tr style=\"text-align: right;\">\n",
              "      <th></th>\n",
              "      <th>Teff</th>\n",
              "      <th>logg</th>\n",
              "      <th>Age</th>\n",
              "      <th>G</th>\n",
              "      <th>G_BP</th>\n",
              "      <th>G_RP</th>\n",
              "    </tr>\n",
              "  </thead>\n",
              "  <tbody>\n",
              "    <tr>\n",
              "      <th>0</th>\n",
              "      <td>2500.0</td>\n",
              "      <td>7.0</td>\n",
              "      <td>5.893000e+09</td>\n",
              "      <td>16.383</td>\n",
              "      <td>16.962</td>\n",
              "      <td>15.680</td>\n",
              "    </tr>\n",
              "    <tr>\n",
              "      <th>1</th>\n",
              "      <td>2750.0</td>\n",
              "      <td>7.0</td>\n",
              "      <td>4.242000e+09</td>\n",
              "      <td>16.034</td>\n",
              "      <td>16.736</td>\n",
              "      <td>15.249</td>\n",
              "    </tr>\n",
              "    <tr>\n",
              "      <th>2</th>\n",
              "      <td>3000.0</td>\n",
              "      <td>7.0</td>\n",
              "      <td>3.471000e+09</td>\n",
              "      <td>15.733</td>\n",
              "      <td>16.515</td>\n",
              "      <td>14.900</td>\n",
              "    </tr>\n",
              "    <tr>\n",
              "      <th>3</th>\n",
              "      <td>3250.0</td>\n",
              "      <td>7.0</td>\n",
              "      <td>3.218000e+09</td>\n",
              "      <td>15.479</td>\n",
              "      <td>16.292</td>\n",
              "      <td>14.627</td>\n",
              "    </tr>\n",
              "    <tr>\n",
              "      <th>4</th>\n",
              "      <td>3500.0</td>\n",
              "      <td>7.0</td>\n",
              "      <td>2.981000e+09</td>\n",
              "      <td>15.256</td>\n",
              "      <td>16.058</td>\n",
              "      <td>14.408</td>\n",
              "    </tr>\n",
              "    <tr>\n",
              "      <th>...</th>\n",
              "      <td>...</td>\n",
              "      <td>...</td>\n",
              "      <td>...</td>\n",
              "      <td>...</td>\n",
              "      <td>...</td>\n",
              "      <td>...</td>\n",
              "    </tr>\n",
              "    <tr>\n",
              "      <th>280</th>\n",
              "      <td>110000.0</td>\n",
              "      <td>9.0</td>\n",
              "      <td>0.000000e+00</td>\n",
              "      <td>10.311</td>\n",
              "      <td>10.034</td>\n",
              "      <td>10.666</td>\n",
              "    </tr>\n",
              "    <tr>\n",
              "      <th>281</th>\n",
              "      <td>120000.0</td>\n",
              "      <td>9.0</td>\n",
              "      <td>0.000000e+00</td>\n",
              "      <td>10.233</td>\n",
              "      <td>9.954</td>\n",
              "      <td>10.591</td>\n",
              "    </tr>\n",
              "    <tr>\n",
              "      <th>282</th>\n",
              "      <td>130000.0</td>\n",
              "      <td>9.0</td>\n",
              "      <td>0.000000e+00</td>\n",
              "      <td>10.160</td>\n",
              "      <td>9.880</td>\n",
              "      <td>10.521</td>\n",
              "    </tr>\n",
              "    <tr>\n",
              "      <th>283</th>\n",
              "      <td>140000.0</td>\n",
              "      <td>9.0</td>\n",
              "      <td>0.000000e+00</td>\n",
              "      <td>10.092</td>\n",
              "      <td>9.811</td>\n",
              "      <td>10.455</td>\n",
              "    </tr>\n",
              "    <tr>\n",
              "      <th>284</th>\n",
              "      <td>150000.0</td>\n",
              "      <td>9.0</td>\n",
              "      <td>0.000000e+00</td>\n",
              "      <td>10.028</td>\n",
              "      <td>9.745</td>\n",
              "      <td>10.392</td>\n",
              "    </tr>\n",
              "  </tbody>\n",
              "</table>\n",
              "<p>285 rows × 6 columns</p>\n",
              "</div>"
            ],
            "text/plain": [
              "         Teff  logg           Age       G    G_BP    G_RP\n",
              "0      2500.0   7.0  5.893000e+09  16.383  16.962  15.680\n",
              "1      2750.0   7.0  4.242000e+09  16.034  16.736  15.249\n",
              "2      3000.0   7.0  3.471000e+09  15.733  16.515  14.900\n",
              "3      3250.0   7.0  3.218000e+09  15.479  16.292  14.627\n",
              "4      3500.0   7.0  2.981000e+09  15.256  16.058  14.408\n",
              "..        ...   ...           ...     ...     ...     ...\n",
              "280  110000.0   9.0  0.000000e+00  10.311  10.034  10.666\n",
              "281  120000.0   9.0  0.000000e+00  10.233   9.954  10.591\n",
              "282  130000.0   9.0  0.000000e+00  10.160   9.880  10.521\n",
              "283  140000.0   9.0  0.000000e+00  10.092   9.811  10.455\n",
              "284  150000.0   9.0  0.000000e+00  10.028   9.745  10.392\n",
              "\n",
              "[285 rows x 6 columns]"
            ]
          },
          "execution_count": 21,
          "metadata": {},
          "output_type": "execute_result"
        }
      ],
      "source": [
        "model_colors = pd.read_csv(resource_filename('desihigh', 'dat/WDphot/Table_DA.txt'), sep='\\s+', comment='#') \n",
        "model_colors = model_colors[['Teff', 'logg', 'Age', 'G', 'G_BP', 'G_RP']]\n",
        "model_colors"
      ]
    },
    {
      "cell_type": "markdown",
      "metadata": {
        "id": "y2eJ7q72DDUW"
      },
      "source": [
        "The above table shows the model prediction for colors of the white dwarf observed by GAIA, if it had the temperature, age and surface gravity (logg) shown.  "
      ]
    },
    {
      "cell_type": "markdown",
      "metadata": {
        "id": "MB7frTcyDDUW"
      },
      "source": [
        "The GAIA colors observed for the DESI white dwarf are:"
      ]
    },
    {
      "cell_type": "code",
      "execution_count": null,
      "metadata": {
        "id": "SR5KzFD_DDUX",
        "outputId": "9918a2d6-533c-472e-f021-e99b3be2d2bb"
      },
      "outputs": [
        {
          "data": {
            "text/plain": [
              "(19.514544, 19.34811, 19.70989)"
            ]
          },
          "execution_count": 22,
          "metadata": {},
          "output_type": "execute_result"
        }
      ],
      "source": [
        "GAIA['G_MAG'], GAIA['BP_MAG'], GAIA['RP_MAG']"
      ]
    },
    {
      "cell_type": "code",
      "execution_count": null,
      "metadata": {
        "id": "-kiCrxfcDDUX",
        "outputId": "5d5db8a0-942d-4a0d-9f50-433aa3e9ca35"
      },
      "outputs": [
        {
          "data": {
            "text/plain": [
              "(0.0044, 0.0281, 0.078)"
            ]
          },
          "execution_count": 23,
          "metadata": {},
          "output_type": "execute_result"
        }
      ],
      "source": [
        "GAIA['G_MAGERR'], GAIA['BP_MAGERR'], GAIA['RP_MAGERR']"
      ]
    },
    {
      "cell_type": "markdown",
      "metadata": {
        "id": "CiVKjhIRDDUY"
      },
      "source": [
        "Can you figure out how old are White Dwarf is?  What does that say about the age of our Universe?  Does it match the estimates of other [experiments](https://www.space.com/24054-how-old-is-the-universe.html#:~:text=In%202013%2C%20Planck%20measured%20the,universe%20at%2013.82%20billion%20years.)? "
      ]
    },
    {
      "cell_type": "markdown",
      "metadata": {
        "id": "pgihPMZFDDUY"
      },
      "source": [
        "If you get stuck, or need another hint, leave us a [message](https://www.github.com/michaelJwilson/DESI-HighSchool/issues/new)! "
      ]
    }
  ],
  "metadata": {
    "kernelspec": {
      "display_name": "Python 3",
      "language": "python",
      "name": "python3"
    },
    "language_info": {
      "codemirror_mode": {
        "name": "ipython",
        "version": 3
      },
      "file_extension": ".py",
      "mimetype": "text/x-python",
      "name": "python",
      "nbconvert_exporter": "python",
      "pygments_lexer": "ipython3",
      "version": "3.7.9"
    },
    "nbTranslate": {
      "displayLangs": [
        "*"
      ],
      "hotkey": "alt-t",
      "langInMainMenu": true,
      "sourceLang": "en",
      "targetLang": "fr",
      "useGoogleTranslate": true
    },
    "colab": {
      "name": "Copy of SnowWhiteDwarf.ipynb",
      "provenance": [],
      "collapsed_sections": [],
      "include_colab_link": true
    }
  },
  "nbformat": 4,
  "nbformat_minor": 0
}